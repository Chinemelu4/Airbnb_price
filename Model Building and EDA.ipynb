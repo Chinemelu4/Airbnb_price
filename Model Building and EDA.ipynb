{
 "cells": [
  {
   "cell_type": "code",
   "execution_count": 52,
   "id": "ae734dea",
   "metadata": {},
   "outputs": [],
   "source": [
    "import pandas as pd \n",
    "import numpy as np\n",
    "import matplotlib.pyplot as plt\n",
    "import seaborn as sns\n",
    "from collections import OrderedDict\n",
    "import warnings\n",
    "warnings.filterwarnings('ignore')\n",
    "%matplotlib inline\n",
    "pd.set_option('display.max_rows', 50000)\n",
    "pd.set_option('display.max_columns', 50000)\n",
    "sns.set()"
   ]
  },
  {
   "cell_type": "code",
   "execution_count": 53,
   "id": "35a3ebb8",
   "metadata": {},
   "outputs": [],
   "source": [
    "df=pd.read_csv('listings.csv')"
   ]
  },
  {
   "cell_type": "code",
   "execution_count": 54,
   "id": "550b8290",
   "metadata": {
    "scrolled": true
   },
   "outputs": [
    {
     "data": {
      "text/html": [
       "<div>\n",
       "<style scoped>\n",
       "    .dataframe tbody tr th:only-of-type {\n",
       "        vertical-align: middle;\n",
       "    }\n",
       "\n",
       "    .dataframe tbody tr th {\n",
       "        vertical-align: top;\n",
       "    }\n",
       "\n",
       "    .dataframe thead th {\n",
       "        text-align: right;\n",
       "    }\n",
       "</style>\n",
       "<table border=\"1\" class=\"dataframe\">\n",
       "  <thead>\n",
       "    <tr style=\"text-align: right;\">\n",
       "      <th></th>\n",
       "      <th>id</th>\n",
       "      <th>name</th>\n",
       "      <th>host_id</th>\n",
       "      <th>host_name</th>\n",
       "      <th>neighbourhood_group</th>\n",
       "      <th>latitude</th>\n",
       "      <th>longitude</th>\n",
       "      <th>room_type</th>\n",
       "      <th>price</th>\n",
       "      <th>minimum_nights</th>\n",
       "      <th>number_of_reviews</th>\n",
       "      <th>last_review</th>\n",
       "      <th>reviews_per_month</th>\n",
       "      <th>calculated_host_listings_count</th>\n",
       "      <th>availability_365</th>\n",
       "    </tr>\n",
       "  </thead>\n",
       "  <tbody>\n",
       "    <tr>\n",
       "      <th>0</th>\n",
       "      <td>49091</td>\n",
       "      <td>COZICOMFORT LONG TERM STAY ROOM 2</td>\n",
       "      <td>266763</td>\n",
       "      <td>Francesca</td>\n",
       "      <td>North Region</td>\n",
       "      <td>1.44255</td>\n",
       "      <td>103.79580</td>\n",
       "      <td>Private room</td>\n",
       "      <td>83</td>\n",
       "      <td>180</td>\n",
       "      <td>1</td>\n",
       "      <td>10/21/2013</td>\n",
       "      <td>0.01</td>\n",
       "      <td>2</td>\n",
       "      <td>365</td>\n",
       "    </tr>\n",
       "    <tr>\n",
       "      <th>1</th>\n",
       "      <td>50646</td>\n",
       "      <td>Pleasant Room along Bukit Timah</td>\n",
       "      <td>227796</td>\n",
       "      <td>Sujatha</td>\n",
       "      <td>Central Region</td>\n",
       "      <td>1.33235</td>\n",
       "      <td>103.78521</td>\n",
       "      <td>Private room</td>\n",
       "      <td>81</td>\n",
       "      <td>90</td>\n",
       "      <td>18</td>\n",
       "      <td>12/26/2014</td>\n",
       "      <td>0.28</td>\n",
       "      <td>1</td>\n",
       "      <td>365</td>\n",
       "    </tr>\n",
       "    <tr>\n",
       "      <th>2</th>\n",
       "      <td>56334</td>\n",
       "      <td>COZICOMFORT</td>\n",
       "      <td>266763</td>\n",
       "      <td>Francesca</td>\n",
       "      <td>North Region</td>\n",
       "      <td>1.44246</td>\n",
       "      <td>103.79667</td>\n",
       "      <td>Private room</td>\n",
       "      <td>69</td>\n",
       "      <td>6</td>\n",
       "      <td>20</td>\n",
       "      <td>10/1/2015</td>\n",
       "      <td>0.20</td>\n",
       "      <td>2</td>\n",
       "      <td>365</td>\n",
       "    </tr>\n",
       "    <tr>\n",
       "      <th>3</th>\n",
       "      <td>71609</td>\n",
       "      <td>Ensuite Room (Room 1 &amp; 2) near EXPO</td>\n",
       "      <td>367042</td>\n",
       "      <td>Belinda</td>\n",
       "      <td>East Region</td>\n",
       "      <td>1.34541</td>\n",
       "      <td>103.95712</td>\n",
       "      <td>Private room</td>\n",
       "      <td>206</td>\n",
       "      <td>1</td>\n",
       "      <td>14</td>\n",
       "      <td>8/11/2019</td>\n",
       "      <td>0.15</td>\n",
       "      <td>9</td>\n",
       "      <td>353</td>\n",
       "    </tr>\n",
       "    <tr>\n",
       "      <th>4</th>\n",
       "      <td>71896</td>\n",
       "      <td>B&amp;B  Room 1 near Airport &amp; EXPO</td>\n",
       "      <td>367042</td>\n",
       "      <td>Belinda</td>\n",
       "      <td>East Region</td>\n",
       "      <td>1.34567</td>\n",
       "      <td>103.95963</td>\n",
       "      <td>Private room</td>\n",
       "      <td>94</td>\n",
       "      <td>1</td>\n",
       "      <td>22</td>\n",
       "      <td>7/28/2019</td>\n",
       "      <td>0.22</td>\n",
       "      <td>9</td>\n",
       "      <td>355</td>\n",
       "    </tr>\n",
       "  </tbody>\n",
       "</table>\n",
       "</div>"
      ],
      "text/plain": [
       "      id                                 name  host_id  host_name  \\\n",
       "0  49091    COZICOMFORT LONG TERM STAY ROOM 2   266763  Francesca   \n",
       "1  50646      Pleasant Room along Bukit Timah   227796    Sujatha   \n",
       "2  56334                          COZICOMFORT   266763  Francesca   \n",
       "3  71609  Ensuite Room (Room 1 & 2) near EXPO   367042    Belinda   \n",
       "4  71896      B&B  Room 1 near Airport & EXPO   367042    Belinda   \n",
       "\n",
       "  neighbourhood_group  latitude  longitude     room_type  price  \\\n",
       "0        North Region   1.44255  103.79580  Private room     83   \n",
       "1      Central Region   1.33235  103.78521  Private room     81   \n",
       "2        North Region   1.44246  103.79667  Private room     69   \n",
       "3         East Region   1.34541  103.95712  Private room    206   \n",
       "4         East Region   1.34567  103.95963  Private room     94   \n",
       "\n",
       "   minimum_nights  number_of_reviews last_review  reviews_per_month  \\\n",
       "0             180                  1  10/21/2013               0.01   \n",
       "1              90                 18  12/26/2014               0.28   \n",
       "2               6                 20   10/1/2015               0.20   \n",
       "3               1                 14   8/11/2019               0.15   \n",
       "4               1                 22   7/28/2019               0.22   \n",
       "\n",
       "   calculated_host_listings_count  availability_365  \n",
       "0                               2               365  \n",
       "1                               1               365  \n",
       "2                               2               365  \n",
       "3                               9               353  \n",
       "4                               9               355  "
      ]
     },
     "execution_count": 54,
     "metadata": {},
     "output_type": "execute_result"
    }
   ],
   "source": [
    "df.head()"
   ]
  },
  {
   "cell_type": "markdown",
   "id": "eeef2925",
   "metadata": {},
   "source": [
    "## DATA CLEANING "
   ]
  },
  {
   "cell_type": "code",
   "execution_count": 55,
   "id": "eefb1175",
   "metadata": {
    "scrolled": false
   },
   "outputs": [
    {
     "data": {
      "text/plain": [
       "(7907, 15)"
      ]
     },
     "execution_count": 55,
     "metadata": {},
     "output_type": "execute_result"
    }
   ],
   "source": [
    "df.shape"
   ]
  },
  {
   "cell_type": "code",
   "execution_count": null,
   "id": "d1b11f41",
   "metadata": {},
   "outputs": [],
   "source": []
  },
  {
   "cell_type": "code",
   "execution_count": 56,
   "id": "87706290",
   "metadata": {
    "scrolled": true
   },
   "outputs": [
    {
     "data": {
      "text/plain": [
       "id                                  int64\n",
       "name                               object\n",
       "host_id                             int64\n",
       "host_name                          object\n",
       "neighbourhood_group                object\n",
       "latitude                          float64\n",
       "longitude                         float64\n",
       "room_type                          object\n",
       "price                               int64\n",
       "minimum_nights                      int64\n",
       "number_of_reviews                   int64\n",
       "last_review                        object\n",
       "reviews_per_month                 float64\n",
       "calculated_host_listings_count      int64\n",
       "availability_365                    int64\n",
       "dtype: object"
      ]
     },
     "execution_count": 56,
     "metadata": {},
     "output_type": "execute_result"
    }
   ],
   "source": [
    "df.dtypes"
   ]
  },
  {
   "cell_type": "markdown",
   "id": "eff27fbe",
   "metadata": {},
   "source": [
    "Get an overview of your data-set using the info() and describe() methods"
   ]
  },
  {
   "cell_type": "code",
   "execution_count": 57,
   "id": "4cb2a325",
   "metadata": {},
   "outputs": [
    {
     "data": {
      "text/html": [
       "<div>\n",
       "<style scoped>\n",
       "    .dataframe tbody tr th:only-of-type {\n",
       "        vertical-align: middle;\n",
       "    }\n",
       "\n",
       "    .dataframe tbody tr th {\n",
       "        vertical-align: top;\n",
       "    }\n",
       "\n",
       "    .dataframe thead th {\n",
       "        text-align: right;\n",
       "    }\n",
       "</style>\n",
       "<table border=\"1\" class=\"dataframe\">\n",
       "  <thead>\n",
       "    <tr style=\"text-align: right;\">\n",
       "      <th></th>\n",
       "      <th>id</th>\n",
       "      <th>host_id</th>\n",
       "      <th>latitude</th>\n",
       "      <th>longitude</th>\n",
       "      <th>price</th>\n",
       "      <th>minimum_nights</th>\n",
       "      <th>number_of_reviews</th>\n",
       "      <th>reviews_per_month</th>\n",
       "      <th>calculated_host_listings_count</th>\n",
       "      <th>availability_365</th>\n",
       "    </tr>\n",
       "  </thead>\n",
       "  <tbody>\n",
       "    <tr>\n",
       "      <th>count</th>\n",
       "      <td>7.907000e+03</td>\n",
       "      <td>7.907000e+03</td>\n",
       "      <td>7907.000000</td>\n",
       "      <td>7907.000000</td>\n",
       "      <td>7907.000000</td>\n",
       "      <td>7907.000000</td>\n",
       "      <td>7907.000000</td>\n",
       "      <td>5149.000000</td>\n",
       "      <td>7907.000000</td>\n",
       "      <td>7907.000000</td>\n",
       "    </tr>\n",
       "    <tr>\n",
       "      <th>mean</th>\n",
       "      <td>2.338862e+07</td>\n",
       "      <td>9.114481e+07</td>\n",
       "      <td>1.314192</td>\n",
       "      <td>103.848787</td>\n",
       "      <td>169.332996</td>\n",
       "      <td>17.510054</td>\n",
       "      <td>12.807386</td>\n",
       "      <td>1.043669</td>\n",
       "      <td>40.607689</td>\n",
       "      <td>208.726318</td>\n",
       "    </tr>\n",
       "    <tr>\n",
       "      <th>std</th>\n",
       "      <td>1.016416e+07</td>\n",
       "      <td>8.190910e+07</td>\n",
       "      <td>0.030577</td>\n",
       "      <td>0.043675</td>\n",
       "      <td>340.187599</td>\n",
       "      <td>42.094616</td>\n",
       "      <td>29.707746</td>\n",
       "      <td>1.285851</td>\n",
       "      <td>65.135253</td>\n",
       "      <td>146.120034</td>\n",
       "    </tr>\n",
       "    <tr>\n",
       "      <th>min</th>\n",
       "      <td>4.909100e+04</td>\n",
       "      <td>2.366600e+04</td>\n",
       "      <td>1.243870</td>\n",
       "      <td>103.646560</td>\n",
       "      <td>0.000000</td>\n",
       "      <td>1.000000</td>\n",
       "      <td>0.000000</td>\n",
       "      <td>0.010000</td>\n",
       "      <td>1.000000</td>\n",
       "      <td>0.000000</td>\n",
       "    </tr>\n",
       "    <tr>\n",
       "      <th>25%</th>\n",
       "      <td>1.582180e+07</td>\n",
       "      <td>2.305808e+07</td>\n",
       "      <td>1.295795</td>\n",
       "      <td>103.835825</td>\n",
       "      <td>65.000000</td>\n",
       "      <td>1.000000</td>\n",
       "      <td>0.000000</td>\n",
       "      <td>0.180000</td>\n",
       "      <td>2.000000</td>\n",
       "      <td>54.000000</td>\n",
       "    </tr>\n",
       "    <tr>\n",
       "      <th>50%</th>\n",
       "      <td>2.470627e+07</td>\n",
       "      <td>6.344891e+07</td>\n",
       "      <td>1.311030</td>\n",
       "      <td>103.849410</td>\n",
       "      <td>124.000000</td>\n",
       "      <td>3.000000</td>\n",
       "      <td>2.000000</td>\n",
       "      <td>0.550000</td>\n",
       "      <td>9.000000</td>\n",
       "      <td>260.000000</td>\n",
       "    </tr>\n",
       "    <tr>\n",
       "      <th>75%</th>\n",
       "      <td>3.234850e+07</td>\n",
       "      <td>1.553811e+08</td>\n",
       "      <td>1.322110</td>\n",
       "      <td>103.872535</td>\n",
       "      <td>199.000000</td>\n",
       "      <td>10.000000</td>\n",
       "      <td>10.000000</td>\n",
       "      <td>1.370000</td>\n",
       "      <td>48.000000</td>\n",
       "      <td>355.000000</td>\n",
       "    </tr>\n",
       "    <tr>\n",
       "      <th>max</th>\n",
       "      <td>3.811276e+07</td>\n",
       "      <td>2.885676e+08</td>\n",
       "      <td>1.454590</td>\n",
       "      <td>103.973420</td>\n",
       "      <td>10000.000000</td>\n",
       "      <td>1000.000000</td>\n",
       "      <td>323.000000</td>\n",
       "      <td>13.000000</td>\n",
       "      <td>274.000000</td>\n",
       "      <td>365.000000</td>\n",
       "    </tr>\n",
       "  </tbody>\n",
       "</table>\n",
       "</div>"
      ],
      "text/plain": [
       "                 id       host_id     latitude    longitude         price  \\\n",
       "count  7.907000e+03  7.907000e+03  7907.000000  7907.000000   7907.000000   \n",
       "mean   2.338862e+07  9.114481e+07     1.314192   103.848787    169.332996   \n",
       "std    1.016416e+07  8.190910e+07     0.030577     0.043675    340.187599   \n",
       "min    4.909100e+04  2.366600e+04     1.243870   103.646560      0.000000   \n",
       "25%    1.582180e+07  2.305808e+07     1.295795   103.835825     65.000000   \n",
       "50%    2.470627e+07  6.344891e+07     1.311030   103.849410    124.000000   \n",
       "75%    3.234850e+07  1.553811e+08     1.322110   103.872535    199.000000   \n",
       "max    3.811276e+07  2.885676e+08     1.454590   103.973420  10000.000000   \n",
       "\n",
       "       minimum_nights  number_of_reviews  reviews_per_month  \\\n",
       "count     7907.000000        7907.000000        5149.000000   \n",
       "mean        17.510054          12.807386           1.043669   \n",
       "std         42.094616          29.707746           1.285851   \n",
       "min          1.000000           0.000000           0.010000   \n",
       "25%          1.000000           0.000000           0.180000   \n",
       "50%          3.000000           2.000000           0.550000   \n",
       "75%         10.000000          10.000000           1.370000   \n",
       "max       1000.000000         323.000000          13.000000   \n",
       "\n",
       "       calculated_host_listings_count  availability_365  \n",
       "count                     7907.000000       7907.000000  \n",
       "mean                        40.607689        208.726318  \n",
       "std                         65.135253        146.120034  \n",
       "min                          1.000000          0.000000  \n",
       "25%                          2.000000         54.000000  \n",
       "50%                          9.000000        260.000000  \n",
       "75%                         48.000000        355.000000  \n",
       "max                        274.000000        365.000000  "
      ]
     },
     "execution_count": 57,
     "metadata": {},
     "output_type": "execute_result"
    }
   ],
   "source": [
    "df.describe()"
   ]
  },
  {
   "cell_type": "code",
   "execution_count": 58,
   "id": "793e04fc",
   "metadata": {
    "scrolled": false
   },
   "outputs": [
    {
     "name": "stdout",
     "output_type": "stream",
     "text": [
      "<class 'pandas.core.frame.DataFrame'>\n",
      "RangeIndex: 7907 entries, 0 to 7906\n",
      "Data columns (total 15 columns):\n",
      " #   Column                          Non-Null Count  Dtype  \n",
      "---  ------                          --------------  -----  \n",
      " 0   id                              7907 non-null   int64  \n",
      " 1   name                            7905 non-null   object \n",
      " 2   host_id                         7907 non-null   int64  \n",
      " 3   host_name                       7907 non-null   object \n",
      " 4   neighbourhood_group             7907 non-null   object \n",
      " 5   latitude                        7907 non-null   float64\n",
      " 6   longitude                       7907 non-null   float64\n",
      " 7   room_type                       7907 non-null   object \n",
      " 8   price                           7907 non-null   int64  \n",
      " 9   minimum_nights                  7907 non-null   int64  \n",
      " 10  number_of_reviews               7907 non-null   int64  \n",
      " 11  last_review                     5149 non-null   object \n",
      " 12  reviews_per_month               5149 non-null   float64\n",
      " 13  calculated_host_listings_count  7907 non-null   int64  \n",
      " 14  availability_365                7907 non-null   int64  \n",
      "dtypes: float64(3), int64(7), object(5)\n",
      "memory usage: 926.7+ KB\n"
     ]
    }
   ],
   "source": [
    "df.info()"
   ]
  },
  {
   "cell_type": "code",
   "execution_count": 59,
   "id": "7c721d5b",
   "metadata": {
    "scrolled": false
   },
   "outputs": [
    {
     "data": {
      "text/plain": [
       "id                                   0\n",
       "name                                 2\n",
       "host_id                              0\n",
       "host_name                            0\n",
       "neighbourhood_group                  0\n",
       "latitude                             0\n",
       "longitude                            0\n",
       "room_type                            0\n",
       "price                                0\n",
       "minimum_nights                       0\n",
       "number_of_reviews                    0\n",
       "last_review                       2758\n",
       "reviews_per_month                 2758\n",
       "calculated_host_listings_count       0\n",
       "availability_365                     0\n",
       "dtype: int64"
      ]
     },
     "execution_count": 59,
     "metadata": {},
     "output_type": "execute_result"
    }
   ],
   "source": [
    "df.isnull().sum()"
   ]
  },
  {
   "cell_type": "code",
   "execution_count": 60,
   "id": "33859ecb",
   "metadata": {
    "scrolled": true
   },
   "outputs": [
    {
     "data": {
      "text/plain": [
       "id                                 0.00\n",
       "name                               0.03\n",
       "host_id                            0.00\n",
       "host_name                          0.00\n",
       "neighbourhood_group                0.00\n",
       "latitude                           0.00\n",
       "longitude                          0.00\n",
       "room_type                          0.00\n",
       "price                              0.00\n",
       "minimum_nights                     0.00\n",
       "number_of_reviews                  0.00\n",
       "last_review                       34.88\n",
       "reviews_per_month                 34.88\n",
       "calculated_host_listings_count     0.00\n",
       "availability_365                   0.00\n",
       "dtype: float64"
      ]
     },
     "execution_count": 60,
     "metadata": {},
     "output_type": "execute_result"
    }
   ],
   "source": [
    "round(100*(df.isnull().sum()/len(df.index)), 2)"
   ]
  },
  {
   "cell_type": "code",
   "execution_count": 61,
   "id": "095720d1",
   "metadata": {},
   "outputs": [
    {
     "data": {
      "text/plain": [
       "528"
      ]
     },
     "execution_count": 61,
     "metadata": {},
     "output_type": "execute_result"
    }
   ],
   "source": [
    "len(df['reviews_per_month'].unique())"
   ]
  },
  {
   "cell_type": "code",
   "execution_count": 62,
   "id": "a991e417",
   "metadata": {
    "scrolled": true
   },
   "outputs": [
    {
     "data": {
      "text/plain": [
       "count    5149.000000\n",
       "mean        1.043669\n",
       "std         1.285851\n",
       "min         0.010000\n",
       "25%         0.180000\n",
       "50%         0.550000\n",
       "75%         1.370000\n",
       "max        13.000000\n",
       "Name: reviews_per_month, dtype: float64"
      ]
     },
     "execution_count": 62,
     "metadata": {},
     "output_type": "execute_result"
    }
   ],
   "source": [
    "df['reviews_per_month'].describe()"
   ]
  },
  {
   "cell_type": "code",
   "execution_count": 63,
   "id": "51704860",
   "metadata": {
    "scrolled": true
   },
   "outputs": [
    {
     "data": {
      "text/plain": [
       "0    1.0\n",
       "dtype: float64"
      ]
     },
     "execution_count": 63,
     "metadata": {},
     "output_type": "execute_result"
    }
   ],
   "source": [
    "df['reviews_per_month'].mode()"
   ]
  },
  {
   "cell_type": "code",
   "execution_count": 64,
   "id": "b5fde831",
   "metadata": {},
   "outputs": [],
   "source": [
    "#The price of properties with no review might be important info\n",
    "df['reviews_per_month'].fillna(0, inplace = True)"
   ]
  },
  {
   "cell_type": "code",
   "execution_count": 65,
   "id": "76cf7e47",
   "metadata": {
    "scrolled": true
   },
   "outputs": [
    {
     "data": {
      "text/plain": [
       "id                                   0\n",
       "name                                 2\n",
       "host_id                              0\n",
       "host_name                            0\n",
       "neighbourhood_group                  0\n",
       "latitude                             0\n",
       "longitude                            0\n",
       "room_type                            0\n",
       "price                                0\n",
       "minimum_nights                       0\n",
       "number_of_reviews                    0\n",
       "last_review                       2758\n",
       "reviews_per_month                    0\n",
       "calculated_host_listings_count       0\n",
       "availability_365                     0\n",
       "dtype: int64"
      ]
     },
     "execution_count": 65,
     "metadata": {},
     "output_type": "execute_result"
    }
   ],
   "source": [
    "df.isnull().sum()"
   ]
  },
  {
   "cell_type": "code",
   "execution_count": 66,
   "id": "05deaa74",
   "metadata": {
    "scrolled": true
   },
   "outputs": [
    {
     "data": {
      "text/plain": [
       "id                                   0\n",
       "name                                 1\n",
       "host_id                              0\n",
       "host_name                            0\n",
       "neighbourhood_group                  0\n",
       "latitude                             0\n",
       "longitude                            0\n",
       "room_type                            0\n",
       "price                                0\n",
       "minimum_nights                       0\n",
       "number_of_reviews                    0\n",
       "last_review                       2758\n",
       "reviews_per_month                    0\n",
       "calculated_host_listings_count       0\n",
       "availability_365                     0\n",
       "dtype: int64"
      ]
     },
     "execution_count": 66,
     "metadata": {},
     "output_type": "execute_result"
    }
   ],
   "source": [
    "#checking whether rows of missing values in the 'number of reviews' corresponds with that of 'last review'\n",
    "(df[df['reviews_per_month']==0]).isnull().sum()"
   ]
  },
  {
   "cell_type": "code",
   "execution_count": 67,
   "id": "5e8292f0",
   "metadata": {},
   "outputs": [
    {
     "data": {
      "text/plain": [
       "1002"
      ]
     },
     "execution_count": 67,
     "metadata": {},
     "output_type": "execute_result"
    }
   ],
   "source": [
    "len(df['last_review'].unique())"
   ]
  },
  {
   "cell_type": "code",
   "execution_count": 68,
   "id": "e1d45663",
   "metadata": {
    "scrolled": true
   },
   "outputs": [
    {
     "data": {
      "text/plain": [
       "array(['10/21/2013', '12/26/2014', '10/1/2015', ..., '4/9/2019',\n",
       "       '6/17/2019', '3/22/2019'], dtype=object)"
      ]
     },
     "execution_count": 68,
     "metadata": {},
     "output_type": "execute_result"
    }
   ],
   "source": [
    "df['last_review'].unique()"
   ]
  },
  {
   "cell_type": "code",
   "execution_count": 69,
   "id": "efbf1f55",
   "metadata": {},
   "outputs": [],
   "source": [
    "df['Year']=df['last_review'].copy()"
   ]
  },
  {
   "cell_type": "code",
   "execution_count": 70,
   "id": "b72ddfc9",
   "metadata": {},
   "outputs": [
    {
     "data": {
      "text/plain": [
       "2758"
      ]
     },
     "execution_count": 70,
     "metadata": {},
     "output_type": "execute_result"
    }
   ],
   "source": [
    "df['Year'].isnull().sum()"
   ]
  },
  {
   "cell_type": "code",
   "execution_count": 71,
   "id": "7b7b7b46",
   "metadata": {},
   "outputs": [],
   "source": [
    "df['Year'].fillna('0/0/0000', inplace = True)"
   ]
  },
  {
   "cell_type": "code",
   "execution_count": null,
   "id": "ded4eef4",
   "metadata": {
    "scrolled": false
   },
   "outputs": [],
   "source": [
    "df['Year']=df['Year'].str.split('/')\n",
    "df['Year']"
   ]
  },
  {
   "cell_type": "code",
   "execution_count": 73,
   "id": "daa2358b",
   "metadata": {},
   "outputs": [],
   "source": [
    "df['Year']=df['Year'].apply (lambda x:x[2])"
   ]
  },
  {
   "cell_type": "code",
   "execution_count": 74,
   "id": "70ad81e5",
   "metadata": {},
   "outputs": [
    {
     "data": {
      "text/plain": [
       "array(['2013', '2014', '2015', '2019', '2018', '2016', '0000', '2017'],\n",
       "      dtype=object)"
      ]
     },
     "execution_count": 74,
     "metadata": {},
     "output_type": "execute_result"
    }
   ],
   "source": [
    "df['Year'].unique()"
   ]
  },
  {
   "cell_type": "code",
   "execution_count": 75,
   "id": "ae184514",
   "metadata": {},
   "outputs": [],
   "source": [
    "#replace missing last view date with lowest date available\n",
    "df['last_review'].fillna('1/1/2012', inplace = True)"
   ]
  },
  {
   "cell_type": "code",
   "execution_count": 76,
   "id": "9dbf1d2e",
   "metadata": {
    "scrolled": true
   },
   "outputs": [
    {
     "data": {
      "text/plain": [
       "id                                0\n",
       "name                              2\n",
       "host_id                           0\n",
       "host_name                         0\n",
       "neighbourhood_group               0\n",
       "latitude                          0\n",
       "longitude                         0\n",
       "room_type                         0\n",
       "price                             0\n",
       "minimum_nights                    0\n",
       "number_of_reviews                 0\n",
       "last_review                       0\n",
       "reviews_per_month                 0\n",
       "calculated_host_listings_count    0\n",
       "availability_365                  0\n",
       "Year                              0\n",
       "dtype: int64"
      ]
     },
     "execution_count": 76,
     "metadata": {},
     "output_type": "execute_result"
    }
   ],
   "source": [
    "df.isnull().sum()"
   ]
  },
  {
   "cell_type": "code",
   "execution_count": 77,
   "id": "e4d3ac4e",
   "metadata": {},
   "outputs": [
    {
     "data": {
      "text/plain": [
       "2705"
      ]
     },
     "execution_count": 77,
     "metadata": {},
     "output_type": "execute_result"
    }
   ],
   "source": [
    "len(df['host_id'].unique())"
   ]
  },
  {
   "cell_type": "code",
   "execution_count": 78,
   "id": "466d681a",
   "metadata": {
    "scrolled": true
   },
   "outputs": [
    {
     "data": {
      "text/plain": [
       "7907"
      ]
     },
     "execution_count": 78,
     "metadata": {},
     "output_type": "execute_result"
    }
   ],
   "source": [
    "len(df['id'].unique())"
   ]
  },
  {
   "cell_type": "code",
   "execution_count": 79,
   "id": "3e355d32",
   "metadata": {},
   "outputs": [
    {
     "data": {
      "text/plain": [
       "7456"
      ]
     },
     "execution_count": 79,
     "metadata": {},
     "output_type": "execute_result"
    }
   ],
   "source": [
    "len(df['name'].unique())"
   ]
  },
  {
   "cell_type": "code",
   "execution_count": 80,
   "id": "a7586d44",
   "metadata": {},
   "outputs": [],
   "source": [
    "df.drop(['name','id','host_name'],axis=1,inplace=True)"
   ]
  },
  {
   "cell_type": "code",
   "execution_count": 81,
   "id": "69bac7a2",
   "metadata": {
    "scrolled": false
   },
   "outputs": [
    {
     "data": {
      "text/plain": [
       "host_id                           0\n",
       "neighbourhood_group               0\n",
       "latitude                          0\n",
       "longitude                         0\n",
       "room_type                         0\n",
       "price                             0\n",
       "minimum_nights                    0\n",
       "number_of_reviews                 0\n",
       "last_review                       0\n",
       "reviews_per_month                 0\n",
       "calculated_host_listings_count    0\n",
       "availability_365                  0\n",
       "Year                              0\n",
       "dtype: int64"
      ]
     },
     "execution_count": 81,
     "metadata": {},
     "output_type": "execute_result"
    }
   ],
   "source": [
    "df.isnull().sum()"
   ]
  },
  {
   "cell_type": "code",
   "execution_count": 82,
   "id": "20b6d8ca",
   "metadata": {
    "scrolled": false
   },
   "outputs": [
    {
     "data": {
      "text/plain": [
       "host_id                             int64\n",
       "neighbourhood_group                object\n",
       "latitude                          float64\n",
       "longitude                         float64\n",
       "room_type                          object\n",
       "price                               int64\n",
       "minimum_nights                      int64\n",
       "number_of_reviews                   int64\n",
       "last_review                        object\n",
       "reviews_per_month                 float64\n",
       "calculated_host_listings_count      int64\n",
       "availability_365                    int64\n",
       "Year                               object\n",
       "dtype: object"
      ]
     },
     "execution_count": 82,
     "metadata": {},
     "output_type": "execute_result"
    }
   ],
   "source": [
    "df.dtypes"
   ]
  },
  {
   "cell_type": "code",
   "execution_count": 83,
   "id": "1a4cab1b",
   "metadata": {},
   "outputs": [],
   "source": [
    "#df['last_review'] = pd.to_datetime(df['last_review'], format=%d/%m/%y)"
   ]
  },
  {
   "cell_type": "code",
   "execution_count": 84,
   "id": "d6b48c82",
   "metadata": {},
   "outputs": [],
   "source": [
    "df['last_review'] = pd.to_datetime(df['last_review'], infer_datetime_format=True)"
   ]
  },
  {
   "cell_type": "code",
   "execution_count": 85,
   "id": "8895129e",
   "metadata": {
    "scrolled": true
   },
   "outputs": [],
   "source": [
    "cat=[col for col in df.columns if df[col].dtype=='O']"
   ]
  },
  {
   "cell_type": "code",
   "execution_count": 86,
   "id": "1fe2823b",
   "metadata": {},
   "outputs": [
    {
     "name": "stdout",
     "output_type": "stream",
     "text": [
      "neighbourhood_group\n",
      "['North Region' 'Central Region' 'East Region' 'West Region'\n",
      " 'North-East Region']\n",
      "room_type\n",
      "['Private room' 'Entire home/apt' 'Shared room']\n",
      "Year\n",
      "['2013' '2014' '2015' '2019' '2018' '2016' '0000' '2017']\n"
     ]
    }
   ],
   "source": [
    "for col in cat:\n",
    "    print(col)\n",
    "    print(df[col].unique())"
   ]
  },
  {
   "cell_type": "code",
   "execution_count": null,
   "id": "5b1ff4cc",
   "metadata": {},
   "outputs": [],
   "source": []
  },
  {
   "cell_type": "markdown",
   "id": "e49ea072",
   "metadata": {},
   "source": [
    "## Exploratory Data Analysis EDA"
   ]
  },
  {
   "cell_type": "code",
   "execution_count": 87,
   "id": "cb8cd88b",
   "metadata": {
    "scrolled": false
   },
   "outputs": [
    {
     "data": {
      "text/plain": [
       "(array([1548.,  156.,  287.,  297.,  386.,   73.,  121.,  120.,  204.,\n",
       "         305.,   45.,   73.,  102.,  175.,  252.,  157.,  280.,  381.,\n",
       "         599., 2346.]),\n",
       " array([  0.  ,  18.25,  36.5 ,  54.75,  73.  ,  91.25, 109.5 , 127.75,\n",
       "        146.  , 164.25, 182.5 , 200.75, 219.  , 237.25, 255.5 , 273.75,\n",
       "        292.  , 310.25, 328.5 , 346.75, 365.  ]),\n",
       " <BarContainer object of 20 artists>)"
      ]
     },
     "execution_count": 87,
     "metadata": {},
     "output_type": "execute_result"
    },
    {
     "data": {
      "image/png": "[encoded data removed]",
      "text/plain": [
       "<Figure size 432x288 with 1 Axes>"
      ]
     },
     "metadata": {},
     "output_type": "display_data"
    }
   ],
   "source": [
    "#Room availability distribution\n",
    "plt.hist(df['availability_365'],density=False,bins=20)"
   ]
  },
  {
   "cell_type": "code",
   "execution_count": null,
   "id": "0ea32d84",
   "metadata": {},
   "outputs": [],
   "source": []
  },
  {
   "cell_type": "code",
   "execution_count": 88,
   "id": "f24cf7c4",
   "metadata": {
    "scrolled": true
   },
   "outputs": [
    {
     "data": {
      "text/plain": [
       "Central Region       6309\n",
       "West Region           540\n",
       "East Region           508\n",
       "North-East Region     346\n",
       "North Region          204\n",
       "Name: neighbourhood_group, dtype: int64"
      ]
     },
     "execution_count": 88,
     "metadata": {},
     "output_type": "execute_result"
    }
   ],
   "source": [
    "#Neighbourhood region representation\n",
    "region=df['neighbourhood_group'].value_counts()\n",
    "region"
   ]
  },
  {
   "cell_type": "code",
   "execution_count": null,
   "id": "4ba337e7",
   "metadata": {},
   "outputs": [],
   "source": []
  },
  {
   "cell_type": "code",
   "execution_count": 89,
   "id": "6adc65b3",
   "metadata": {
    "scrolled": true
   },
   "outputs": [
    {
     "data": {
      "image/png": "[encoded data removed]",
      "text/plain": [
       "<Figure size 432x288 with 1 Axes>"
      ]
     },
     "metadata": {},
     "output_type": "display_data"
    }
   ],
   "source": [
    "region.plot.barh(color=(0.5, 0.5, 0.5, 0.5),edgecolor='r', width=0.7)\n",
    "plt.grid()"
   ]
  },
  {
   "cell_type": "code",
   "execution_count": 90,
   "id": "b1bcf393",
   "metadata": {},
   "outputs": [
    {
     "data": {
      "text/plain": [
       "Entire home/apt    4132\n",
       "Private room       3381\n",
       "Shared room         394\n",
       "Name: room_type, dtype: int64"
      ]
     },
     "execution_count": 90,
     "metadata": {},
     "output_type": "execute_result"
    }
   ],
   "source": [
    "#Room types freuency\n",
    "rooms=df['room_type'].value_counts()\n",
    "rooms"
   ]
  },
  {
   "cell_type": "code",
   "execution_count": 91,
   "id": "a39697c8",
   "metadata": {
    "scrolled": false
   },
   "outputs": [
    {
     "data": {
      "image/png": "[encoded data removed]",
      "text/plain": [
       "<Figure size 576x576 with 1 Axes>"
      ]
     },
     "metadata": {},
     "output_type": "display_data"
    }
   ],
   "source": [
    "plt.subplots(figsize=(8,8))\n",
    "rooms.plot.pie(explode = [0.00,0.09,0.00],shadow=True,autopct='%1.1f%%',cmap='Spectral')\n",
    "\n",
    "plt.legend(title = \"Colour Count:\")\n",
    "plt.show()"
   ]
  },
  {
   "cell_type": "code",
   "execution_count": 92,
   "id": "510fa56c",
   "metadata": {
    "scrolled": false
   },
   "outputs": [
    {
     "data": {
      "text/html": [
       "<div>\n",
       "<style scoped>\n",
       "    .dataframe tbody tr th:only-of-type {\n",
       "        vertical-align: middle;\n",
       "    }\n",
       "\n",
       "    .dataframe tbody tr th {\n",
       "        vertical-align: top;\n",
       "    }\n",
       "\n",
       "    .dataframe thead th {\n",
       "        text-align: right;\n",
       "    }\n",
       "</style>\n",
       "<table border=\"1\" class=\"dataframe\">\n",
       "  <thead>\n",
       "    <tr style=\"text-align: right;\">\n",
       "      <th></th>\n",
       "      <th>price</th>\n",
       "    </tr>\n",
       "    <tr>\n",
       "      <th>room_type</th>\n",
       "      <th></th>\n",
       "    </tr>\n",
       "  </thead>\n",
       "  <tbody>\n",
       "    <tr>\n",
       "      <th>Entire home/apt</th>\n",
       "      <td>226.998306</td>\n",
       "    </tr>\n",
       "    <tr>\n",
       "      <th>Private room</th>\n",
       "      <td>110.938480</td>\n",
       "    </tr>\n",
       "    <tr>\n",
       "      <th>Shared room</th>\n",
       "      <td>65.675127</td>\n",
       "    </tr>\n",
       "  </tbody>\n",
       "</table>\n",
       "</div>"
      ],
      "text/plain": [
       "                      price\n",
       "room_type                  \n",
       "Entire home/apt  226.998306\n",
       "Private room     110.938480\n",
       "Shared room       65.675127"
      ]
     },
     "execution_count": 92,
     "metadata": {},
     "output_type": "execute_result"
    }
   ],
   "source": [
    "#Average room type price \n",
    "avr_room_price=df.groupby('room_type')['price'].mean().to_frame()\n",
    "\n",
    "avr_room_price"
   ]
  },
  {
   "cell_type": "code",
   "execution_count": 93,
   "id": "dcb80954",
   "metadata": {},
   "outputs": [
    {
     "data": {
      "text/html": [
       "<div>\n",
       "<style scoped>\n",
       "    .dataframe tbody tr th:only-of-type {\n",
       "        vertical-align: middle;\n",
       "    }\n",
       "\n",
       "    .dataframe tbody tr th {\n",
       "        vertical-align: top;\n",
       "    }\n",
       "\n",
       "    .dataframe thead th {\n",
       "        text-align: right;\n",
       "    }\n",
       "</style>\n",
       "<table border=\"1\" class=\"dataframe\">\n",
       "  <thead>\n",
       "    <tr style=\"text-align: right;\">\n",
       "      <th></th>\n",
       "      <th>price</th>\n",
       "    </tr>\n",
       "    <tr>\n",
       "      <th>room_type</th>\n",
       "      <th></th>\n",
       "    </tr>\n",
       "  </thead>\n",
       "  <tbody>\n",
       "    <tr>\n",
       "      <th>Entire home/apt</th>\n",
       "      <td>937957</td>\n",
       "    </tr>\n",
       "    <tr>\n",
       "      <th>Private room</th>\n",
       "      <td>375083</td>\n",
       "    </tr>\n",
       "    <tr>\n",
       "      <th>Shared room</th>\n",
       "      <td>25876</td>\n",
       "    </tr>\n",
       "  </tbody>\n",
       "</table>\n",
       "</div>"
      ],
      "text/plain": [
       "                  price\n",
       "room_type              \n",
       "Entire home/apt  937957\n",
       "Private room     375083\n",
       "Shared room       25876"
      ]
     },
     "execution_count": 93,
     "metadata": {},
     "output_type": "execute_result"
    }
   ],
   "source": [
    "room_price=df.groupby('room_type')['price'].sum()\n",
    "room_price=pd.DataFrame(room_price,columns=['price'])\n",
    "room_price"
   ]
  },
  {
   "cell_type": "code",
   "execution_count": 94,
   "id": "6d19cfcc",
   "metadata": {},
   "outputs": [
    {
     "data": {
      "image/png": "[encoded data removed]",
      "text/plain": [
       "<Figure size 432x288 with 1 Axes>"
      ]
     },
     "metadata": {},
     "output_type": "display_data"
    }
   ],
   "source": [
    "#Bar chart of the average price of the different cut categories, showing the largest value\n",
    "x=room_price.index\n",
    "y=room_price['price']\n",
    "\n",
    "clrs = ['grey' if (x < max(y)) else 'red' for x in y ]\n",
    "plt.title('Amount made by Room Type')\n",
    "plt.bar(x, y, color=clrs, width=0.4,linestyle='--',edgecolor='b',lw=0.9)\n",
    "plt.grid()\n",
    "plt.show() "
   ]
  },
  {
   "cell_type": "code",
   "execution_count": 95,
   "id": "0172e379",
   "metadata": {
    "scrolled": true
   },
   "outputs": [
    {
     "data": {
      "image/png": "[encoded data removed]",
      "text/plain": [
       "<Figure size 432x288 with 1 Axes>"
      ]
     },
     "metadata": {},
     "output_type": "display_data"
    }
   ],
   "source": [
    "#Average length of stay by region\n",
    "Region_stay=df.groupby('neighbourhood_group')['minimum_nights'].mean()\n",
    "Region_stay=pd.DataFrame(Region_stay,columns=['minimum_nights'])\n",
    "\n",
    "x=Region_stay.index\n",
    "y=Region_stay['minimum_nights']\n",
    "\n",
    "clrs = ['y' if (x < max(y)) else 'red' for x in y ]\n",
    "plt.title('Average Stay Length by Region')\n",
    "plt.barh(x, y, color=clrs)\n",
    "plt.show()"
   ]
  },
  {
   "cell_type": "code",
   "execution_count": 96,
   "id": "a8709060",
   "metadata": {
    "scrolled": true
   },
   "outputs": [
    {
     "data": {
      "image/png": "[encoded data removed]",
      "text/plain": [
       "<Figure size 432x288 with 1 Axes>"
      ]
     },
     "metadata": {},
     "output_type": "display_data"
    }
   ],
   "source": [
    "#Relationshp between Roo availabilty and price\n",
    "plt.scatter(df['availability_365'],df['price'],c='g')\n",
    "plt.xlabel('Room availability')\n",
    "plt.ylabel('Price')\n",
    "plt.title('Room Availability vs Price')\n",
    "plt.grid()"
   ]
  },
  {
   "cell_type": "code",
   "execution_count": 97,
   "id": "cda0c73d",
   "metadata": {},
   "outputs": [
    {
     "data": {
      "image/png": "[encoded data removed]",
      "text/plain": [
       "<Figure size 432x288 with 1 Axes>"
      ]
     },
     "metadata": {},
     "output_type": "display_data"
    }
   ],
   "source": [
    "plt.scatter(df['minimum_nights'],df['price'],c='g')\n",
    "plt.xlabel('Minum nights length')\n",
    "plt.ylabel('Price')\n",
    "plt.title('Minimum Night length vs Price')\n",
    "plt.grid()"
   ]
  },
  {
   "cell_type": "code",
   "execution_count": 98,
   "id": "57f9c6d6",
   "metadata": {},
   "outputs": [
    {
     "data": {
      "text/plain": [
       "<AxesSubplot:xlabel='neighbourhood_group', ylabel='price'>"
      ]
     },
     "execution_count": 98,
     "metadata": {},
     "output_type": "execute_result"
    },
    {
     "data": {
      "image/png": "[encoded data removed]",
      "text/plain": [
       "<Figure size 576x720 with 1 Axes>"
      ]
     },
     "metadata": {},
     "output_type": "display_data"
    }
   ],
   "source": [
    "#Neighbourhood region price patterns\n",
    "plt.subplots(figsize=(8,10))\n",
    "sns.boxplot(x='neighbourhood_group',y='price',data=df)"
   ]
  },
  {
   "cell_type": "code",
   "execution_count": 99,
   "id": "db75f1f5",
   "metadata": {
    "scrolled": true
   },
   "outputs": [
    {
     "data": {
      "text/plain": [
       "<AxesSubplot:xlabel='neighbourhood_group', ylabel='price'>"
      ]
     },
     "execution_count": 99,
     "metadata": {},
     "output_type": "execute_result"
    },
    {
     "data": {
      "image/png": "[encoded data removed]",
      "text/plain": [
       "<Figure size 432x288 with 1 Axes>"
      ]
     },
     "metadata": {},
     "output_type": "display_data"
    }
   ],
   "source": [
    "sns.stripplot(x=df['neighbourhood_group'],y=df['price'])"
   ]
  },
  {
   "cell_type": "code",
   "execution_count": 100,
   "id": "9db2af12",
   "metadata": {
    "scrolled": false
   },
   "outputs": [
    {
     "data": {
      "image/png": "[encoded data removed]",
      "text/plain": [
       "<Figure size 432x432 with 1 Axes>"
      ]
     },
     "metadata": {},
     "output_type": "display_data"
    }
   ],
   "source": [
    "plt.figure(figsize=(6,6))\n",
    "sns.histplot(df['price'])\n",
    "plt.show()"
   ]
  },
  {
   "cell_type": "code",
   "execution_count": 101,
   "id": "b4bf668a",
   "metadata": {
    "scrolled": false
   },
   "outputs": [
    {
     "data": {
      "text/plain": [
       "{'whiskers': [<matplotlib.lines.Line2D at 0x22ec17c3160>,\n",
       "  <matplotlib.lines.Line2D at 0x22ec17c34c0>],\n",
       " 'caps': [<matplotlib.lines.Line2D at 0x22ec17c3820>,\n",
       "  <matplotlib.lines.Line2D at 0x22ec17c3b80>],\n",
       " 'boxes': [<matplotlib.lines.Line2D at 0x22ec1780dc0>],\n",
       " 'medians': [<matplotlib.lines.Line2D at 0x22ec17c3ee0>],\n",
       " 'fliers': [<matplotlib.lines.Line2D at 0x22ec17cc5e0>],\n",
       " 'means': [<matplotlib.lines.Line2D at 0x22ec17cc280>]}"
      ]
     },
     "execution_count": 101,
     "metadata": {},
     "output_type": "execute_result"
    },
    {
     "data": {
      "image/png": "[encoded data removed]",
      "text/plain": [
       "<Figure size 576x720 with 1 Axes>"
      ]
     },
     "metadata": {},
     "output_type": "display_data"
    }
   ],
   "source": [
    "plt.subplots(figsize=(8,10))\n",
    "plt.boxplot(df['price'], showmeans=True)\n"
   ]
  },
  {
   "cell_type": "markdown",
   "id": "88b118e9",
   "metadata": {},
   "source": [
    "## Preprocessing"
   ]
  },
  {
   "cell_type": "markdown",
   "id": "1ffd4ea0",
   "metadata": {},
   "source": [
    "### Outlier check and handling"
   ]
  },
  {
   "cell_type": "code",
   "execution_count": 103,
   "id": "e5faf4a1",
   "metadata": {
    "scrolled": false
   },
   "outputs": [
    {
     "data": {
      "text/plain": [
       "<AxesSubplot:xlabel='price'>"
      ]
     },
     "execution_count": 103,
     "metadata": {},
     "output_type": "execute_result"
    },
    {
     "data": {
      "image/png": "[encoded data removed]",
      "text/plain": [
       "<Figure size 576x720 with 1 Axes>"
      ]
     },
     "metadata": {},
     "output_type": "display_data"
    }
   ],
   "source": [
    "plt.figure(figsize=(8,10))\n",
    "sns.boxplot(df['price'],fliersize=2)"
   ]
  },
  {
   "cell_type": "code",
   "execution_count": 104,
   "id": "f9eee39b",
   "metadata": {},
   "outputs": [
    {
     "data": {
      "text/plain": [
       "198"
      ]
     },
     "execution_count": 104,
     "metadata": {},
     "output_type": "execute_result"
    }
   ],
   "source": [
    "#Count how many prices among the outliers\n",
    "df[df['price']>500].shape[0]"
   ]
  },
  {
   "cell_type": "code",
   "execution_count": 105,
   "id": "16be2337",
   "metadata": {},
   "outputs": [
    {
     "data": {
      "text/plain": [
       "<AxesSubplot:xlabel='price'>"
      ]
     },
     "execution_count": 105,
     "metadata": {},
     "output_type": "execute_result"
    },
    {
     "data": {
      "image/png": "[encoded data removed]",
      "text/plain": [
       "<Figure size 576x720 with 1 Axes>"
      ]
     },
     "metadata": {},
     "output_type": "display_data"
    }
   ],
   "source": [
    "df2=df[df['price']<=360]\n",
    "plt.figure(figsize=(8,10))\n",
    "sns.boxplot(df2['price'],fliersize=2)"
   ]
  },
  {
   "cell_type": "code",
   "execution_count": null,
   "id": "cedac838",
   "metadata": {},
   "outputs": [],
   "source": []
  },
  {
   "cell_type": "code",
   "execution_count": 106,
   "id": "9fc3712d",
   "metadata": {
    "scrolled": false
   },
   "outputs": [],
   "source": [
    "#deleting every data point containing the outliers\n",
    "\n",
    "df2=df[df['price']<=360]\n"
   ]
  },
  {
   "cell_type": "code",
   "execution_count": null,
   "id": "ff0e3c44",
   "metadata": {
    "scrolled": false
   },
   "outputs": [],
   "source": []
  },
  {
   "cell_type": "code",
   "execution_count": 107,
   "id": "811e4706",
   "metadata": {},
   "outputs": [
    {
     "data": {
      "text/plain": [
       "<AxesSubplot:xlabel='price'>"
      ]
     },
     "execution_count": 107,
     "metadata": {},
     "output_type": "execute_result"
    },
    {
     "data": {
      "image/png": "[encoded data removed]",
      "text/plain": [
       "<Figure size 576x720 with 1 Axes>"
      ]
     },
     "metadata": {},
     "output_type": "display_data"
    }
   ],
   "source": [
    "plt.subplots(figsize=(8,10))\n",
    "sns.boxplot(df2['price'],fliersize=2)"
   ]
  },
  {
   "cell_type": "markdown",
   "id": "f1ea44b7",
   "metadata": {},
   "source": [
    "### Encoding categories"
   ]
  },
  {
   "cell_type": "code",
   "execution_count": 108,
   "id": "0c23e891",
   "metadata": {},
   "outputs": [
    {
     "data": {
      "text/plain": [
       "['neighbourhood_group', 'room_type', 'Year']"
      ]
     },
     "execution_count": 108,
     "metadata": {},
     "output_type": "execute_result"
    }
   ],
   "source": [
    "cat=[col for col in df.columns if df[col].dtype=='O']\n",
    "cat"
   ]
  },
  {
   "cell_type": "code",
   "execution_count": 109,
   "id": "bcb544ec",
   "metadata": {},
   "outputs": [
    {
     "name": "stdout",
     "output_type": "stream",
     "text": [
      "neighbourhood_group\n",
      "['North Region' 'Central Region' 'East Region' 'West Region'\n",
      " 'North-East Region']\n",
      "room_type\n",
      "['Private room' 'Entire home/apt' 'Shared room']\n",
      "Year\n",
      "['2013' '2014' '2015' '2019' '2018' '2016' '0000' '2017']\n"
     ]
    }
   ],
   "source": [
    "for col in cat:\n",
    "    print(col)\n",
    "    print(df[col].unique())"
   ]
  },
  {
   "cell_type": "code",
   "execution_count": 110,
   "id": "02aaf9d7",
   "metadata": {
    "scrolled": false
   },
   "outputs": [
    {
     "data": {
      "text/html": [
       "<div>\n",
       "<style scoped>\n",
       "    .dataframe tbody tr th:only-of-type {\n",
       "        vertical-align: middle;\n",
       "    }\n",
       "\n",
       "    .dataframe tbody tr th {\n",
       "        vertical-align: top;\n",
       "    }\n",
       "\n",
       "    .dataframe thead th {\n",
       "        text-align: right;\n",
       "    }\n",
       "</style>\n",
       "<table border=\"1\" class=\"dataframe\">\n",
       "  <thead>\n",
       "    <tr style=\"text-align: right;\">\n",
       "      <th></th>\n",
       "      <th>Central Region</th>\n",
       "      <th>East Region</th>\n",
       "      <th>North Region</th>\n",
       "      <th>North-East Region</th>\n",
       "      <th>West Region</th>\n",
       "    </tr>\n",
       "  </thead>\n",
       "  <tbody>\n",
       "    <tr>\n",
       "      <th>0</th>\n",
       "      <td>0</td>\n",
       "      <td>0</td>\n",
       "      <td>1</td>\n",
       "      <td>0</td>\n",
       "      <td>0</td>\n",
       "    </tr>\n",
       "    <tr>\n",
       "      <th>1</th>\n",
       "      <td>1</td>\n",
       "      <td>0</td>\n",
       "      <td>0</td>\n",
       "      <td>0</td>\n",
       "      <td>0</td>\n",
       "    </tr>\n",
       "    <tr>\n",
       "      <th>2</th>\n",
       "      <td>0</td>\n",
       "      <td>0</td>\n",
       "      <td>1</td>\n",
       "      <td>0</td>\n",
       "      <td>0</td>\n",
       "    </tr>\n",
       "    <tr>\n",
       "      <th>3</th>\n",
       "      <td>0</td>\n",
       "      <td>1</td>\n",
       "      <td>0</td>\n",
       "      <td>0</td>\n",
       "      <td>0</td>\n",
       "    </tr>\n",
       "    <tr>\n",
       "      <th>4</th>\n",
       "      <td>0</td>\n",
       "      <td>1</td>\n",
       "      <td>0</td>\n",
       "      <td>0</td>\n",
       "      <td>0</td>\n",
       "    </tr>\n",
       "  </tbody>\n",
       "</table>\n",
       "</div>"
      ],
      "text/plain": [
       "   Central Region  East Region  North Region  North-East Region  West Region\n",
       "0               0            0             1                  0            0\n",
       "1               1            0             0                  0            0\n",
       "2               0            0             1                  0            0\n",
       "3               0            1             0                  0            0\n",
       "4               0            1             0                  0            0"
      ]
     },
     "execution_count": 110,
     "metadata": {},
     "output_type": "execute_result"
    }
   ],
   "source": [
    "(pd.get_dummies(df2['neighbourhood_group'])).head()\n"
   ]
  },
  {
   "cell_type": "code",
   "execution_count": 111,
   "id": "bec8709c",
   "metadata": {
    "scrolled": true
   },
   "outputs": [],
   "source": [
    "df3=pd.concat([df2, pd.get_dummies(df2[['neighbourhood_group','room_type']],drop_first=True)],axis=1)"
   ]
  },
  {
   "cell_type": "code",
   "execution_count": 112,
   "id": "ae25d474",
   "metadata": {
    "scrolled": false
   },
   "outputs": [
    {
     "data": {
      "text/html": [
       "<div>\n",
       "<style scoped>\n",
       "    .dataframe tbody tr th:only-of-type {\n",
       "        vertical-align: middle;\n",
       "    }\n",
       "\n",
       "    .dataframe tbody tr th {\n",
       "        vertical-align: top;\n",
       "    }\n",
       "\n",
       "    .dataframe thead th {\n",
       "        text-align: right;\n",
       "    }\n",
       "</style>\n",
       "<table border=\"1\" class=\"dataframe\">\n",
       "  <thead>\n",
       "    <tr style=\"text-align: right;\">\n",
       "      <th></th>\n",
       "      <th>host_id</th>\n",
       "      <th>neighbourhood_group</th>\n",
       "      <th>latitude</th>\n",
       "      <th>longitude</th>\n",
       "      <th>room_type</th>\n",
       "      <th>price</th>\n",
       "      <th>minimum_nights</th>\n",
       "      <th>number_of_reviews</th>\n",
       "      <th>last_review</th>\n",
       "      <th>reviews_per_month</th>\n",
       "      <th>calculated_host_listings_count</th>\n",
       "      <th>availability_365</th>\n",
       "      <th>Year</th>\n",
       "      <th>neighbourhood_group_East Region</th>\n",
       "      <th>neighbourhood_group_North Region</th>\n",
       "      <th>neighbourhood_group_North-East Region</th>\n",
       "      <th>neighbourhood_group_West Region</th>\n",
       "      <th>room_type_Private room</th>\n",
       "      <th>room_type_Shared room</th>\n",
       "    </tr>\n",
       "  </thead>\n",
       "  <tbody>\n",
       "    <tr>\n",
       "      <th>0</th>\n",
       "      <td>266763</td>\n",
       "      <td>North Region</td>\n",
       "      <td>1.44255</td>\n",
       "      <td>103.79580</td>\n",
       "      <td>Private room</td>\n",
       "      <td>83</td>\n",
       "      <td>180</td>\n",
       "      <td>1</td>\n",
       "      <td>2013-10-21</td>\n",
       "      <td>0.01</td>\n",
       "      <td>2</td>\n",
       "      <td>365</td>\n",
       "      <td>2013</td>\n",
       "      <td>0</td>\n",
       "      <td>1</td>\n",
       "      <td>0</td>\n",
       "      <td>0</td>\n",
       "      <td>1</td>\n",
       "      <td>0</td>\n",
       "    </tr>\n",
       "    <tr>\n",
       "      <th>1</th>\n",
       "      <td>227796</td>\n",
       "      <td>Central Region</td>\n",
       "      <td>1.33235</td>\n",
       "      <td>103.78521</td>\n",
       "      <td>Private room</td>\n",
       "      <td>81</td>\n",
       "      <td>90</td>\n",
       "      <td>18</td>\n",
       "      <td>2014-12-26</td>\n",
       "      <td>0.28</td>\n",
       "      <td>1</td>\n",
       "      <td>365</td>\n",
       "      <td>2014</td>\n",
       "      <td>0</td>\n",
       "      <td>0</td>\n",
       "      <td>0</td>\n",
       "      <td>0</td>\n",
       "      <td>1</td>\n",
       "      <td>0</td>\n",
       "    </tr>\n",
       "    <tr>\n",
       "      <th>2</th>\n",
       "      <td>266763</td>\n",
       "      <td>North Region</td>\n",
       "      <td>1.44246</td>\n",
       "      <td>103.79667</td>\n",
       "      <td>Private room</td>\n",
       "      <td>69</td>\n",
       "      <td>6</td>\n",
       "      <td>20</td>\n",
       "      <td>2015-10-01</td>\n",
       "      <td>0.20</td>\n",
       "      <td>2</td>\n",
       "      <td>365</td>\n",
       "      <td>2015</td>\n",
       "      <td>0</td>\n",
       "      <td>1</td>\n",
       "      <td>0</td>\n",
       "      <td>0</td>\n",
       "      <td>1</td>\n",
       "      <td>0</td>\n",
       "    </tr>\n",
       "    <tr>\n",
       "      <th>3</th>\n",
       "      <td>367042</td>\n",
       "      <td>East Region</td>\n",
       "      <td>1.34541</td>\n",
       "      <td>103.95712</td>\n",
       "      <td>Private room</td>\n",
       "      <td>206</td>\n",
       "      <td>1</td>\n",
       "      <td>14</td>\n",
       "      <td>2019-08-11</td>\n",
       "      <td>0.15</td>\n",
       "      <td>9</td>\n",
       "      <td>353</td>\n",
       "      <td>2019</td>\n",
       "      <td>1</td>\n",
       "      <td>0</td>\n",
       "      <td>0</td>\n",
       "      <td>0</td>\n",
       "      <td>1</td>\n",
       "      <td>0</td>\n",
       "    </tr>\n",
       "    <tr>\n",
       "      <th>4</th>\n",
       "      <td>367042</td>\n",
       "      <td>East Region</td>\n",
       "      <td>1.34567</td>\n",
       "      <td>103.95963</td>\n",
       "      <td>Private room</td>\n",
       "      <td>94</td>\n",
       "      <td>1</td>\n",
       "      <td>22</td>\n",
       "      <td>2019-07-28</td>\n",
       "      <td>0.22</td>\n",
       "      <td>9</td>\n",
       "      <td>355</td>\n",
       "      <td>2019</td>\n",
       "      <td>1</td>\n",
       "      <td>0</td>\n",
       "      <td>0</td>\n",
       "      <td>0</td>\n",
       "      <td>1</td>\n",
       "      <td>0</td>\n",
       "    </tr>\n",
       "  </tbody>\n",
       "</table>\n",
       "</div>"
      ],
      "text/plain": [
       "   host_id neighbourhood_group  latitude  longitude     room_type  price  \\\n",
       "0   266763        North Region   1.44255  103.79580  Private room     83   \n",
       "1   227796      Central Region   1.33235  103.78521  Private room     81   \n",
       "2   266763        North Region   1.44246  103.79667  Private room     69   \n",
       "3   367042         East Region   1.34541  103.95712  Private room    206   \n",
       "4   367042         East Region   1.34567  103.95963  Private room     94   \n",
       "\n",
       "   minimum_nights  number_of_reviews last_review  reviews_per_month  \\\n",
       "0             180                  1  2013-10-21               0.01   \n",
       "1              90                 18  2014-12-26               0.28   \n",
       "2               6                 20  2015-10-01               0.20   \n",
       "3               1                 14  2019-08-11               0.15   \n",
       "4               1                 22  2019-07-28               0.22   \n",
       "\n",
       "   calculated_host_listings_count  availability_365  Year  \\\n",
       "0                               2               365  2013   \n",
       "1                               1               365  2014   \n",
       "2                               2               365  2015   \n",
       "3                               9               353  2019   \n",
       "4                               9               355  2019   \n",
       "\n",
       "   neighbourhood_group_East Region  neighbourhood_group_North Region  \\\n",
       "0                                0                                 1   \n",
       "1                                0                                 0   \n",
       "2                                0                                 1   \n",
       "3                                1                                 0   \n",
       "4                                1                                 0   \n",
       "\n",
       "   neighbourhood_group_North-East Region  neighbourhood_group_West Region  \\\n",
       "0                                      0                                0   \n",
       "1                                      0                                0   \n",
       "2                                      0                                0   \n",
       "3                                      0                                0   \n",
       "4                                      0                                0   \n",
       "\n",
       "   room_type_Private room  room_type_Shared room  \n",
       "0                       1                      0  \n",
       "1                       1                      0  \n",
       "2                       1                      0  \n",
       "3                       1                      0  \n",
       "4                       1                      0  "
      ]
     },
     "execution_count": 112,
     "metadata": {},
     "output_type": "execute_result"
    }
   ],
   "source": [
    "df3.head()"
   ]
  },
  {
   "cell_type": "code",
   "execution_count": 113,
   "id": "f5aa25d3",
   "metadata": {},
   "outputs": [],
   "source": [
    "#Joinining the encoded columns with the orignal dataset\n",
    "#df3=pd.concat([df3, pd.get_dummies(df2['room_type'])],axis=1)"
   ]
  },
  {
   "cell_type": "code",
   "execution_count": 114,
   "id": "e58d834f",
   "metadata": {
    "scrolled": true
   },
   "outputs": [
    {
     "data": {
      "text/html": [
       "<div>\n",
       "<style scoped>\n",
       "    .dataframe tbody tr th:only-of-type {\n",
       "        vertical-align: middle;\n",
       "    }\n",
       "\n",
       "    .dataframe tbody tr th {\n",
       "        vertical-align: top;\n",
       "    }\n",
       "\n",
       "    .dataframe thead th {\n",
       "        text-align: right;\n",
       "    }\n",
       "</style>\n",
       "<table border=\"1\" class=\"dataframe\">\n",
       "  <thead>\n",
       "    <tr style=\"text-align: right;\">\n",
       "      <th></th>\n",
       "      <th>host_id</th>\n",
       "      <th>neighbourhood_group</th>\n",
       "      <th>latitude</th>\n",
       "      <th>longitude</th>\n",
       "      <th>room_type</th>\n",
       "      <th>price</th>\n",
       "      <th>minimum_nights</th>\n",
       "      <th>number_of_reviews</th>\n",
       "      <th>last_review</th>\n",
       "      <th>reviews_per_month</th>\n",
       "      <th>calculated_host_listings_count</th>\n",
       "      <th>availability_365</th>\n",
       "      <th>Year</th>\n",
       "      <th>neighbourhood_group_East Region</th>\n",
       "      <th>neighbourhood_group_North Region</th>\n",
       "      <th>neighbourhood_group_North-East Region</th>\n",
       "      <th>neighbourhood_group_West Region</th>\n",
       "      <th>room_type_Private room</th>\n",
       "      <th>room_type_Shared room</th>\n",
       "    </tr>\n",
       "  </thead>\n",
       "  <tbody>\n",
       "    <tr>\n",
       "      <th>0</th>\n",
       "      <td>266763</td>\n",
       "      <td>North Region</td>\n",
       "      <td>1.44255</td>\n",
       "      <td>103.79580</td>\n",
       "      <td>Private room</td>\n",
       "      <td>83</td>\n",
       "      <td>180</td>\n",
       "      <td>1</td>\n",
       "      <td>2013-10-21</td>\n",
       "      <td>0.01</td>\n",
       "      <td>2</td>\n",
       "      <td>365</td>\n",
       "      <td>2013</td>\n",
       "      <td>0</td>\n",
       "      <td>1</td>\n",
       "      <td>0</td>\n",
       "      <td>0</td>\n",
       "      <td>1</td>\n",
       "      <td>0</td>\n",
       "    </tr>\n",
       "    <tr>\n",
       "      <th>1</th>\n",
       "      <td>227796</td>\n",
       "      <td>Central Region</td>\n",
       "      <td>1.33235</td>\n",
       "      <td>103.78521</td>\n",
       "      <td>Private room</td>\n",
       "      <td>81</td>\n",
       "      <td>90</td>\n",
       "      <td>18</td>\n",
       "      <td>2014-12-26</td>\n",
       "      <td>0.28</td>\n",
       "      <td>1</td>\n",
       "      <td>365</td>\n",
       "      <td>2014</td>\n",
       "      <td>0</td>\n",
       "      <td>0</td>\n",
       "      <td>0</td>\n",
       "      <td>0</td>\n",
       "      <td>1</td>\n",
       "      <td>0</td>\n",
       "    </tr>\n",
       "    <tr>\n",
       "      <th>2</th>\n",
       "      <td>266763</td>\n",
       "      <td>North Region</td>\n",
       "      <td>1.44246</td>\n",
       "      <td>103.79667</td>\n",
       "      <td>Private room</td>\n",
       "      <td>69</td>\n",
       "      <td>6</td>\n",
       "      <td>20</td>\n",
       "      <td>2015-10-01</td>\n",
       "      <td>0.20</td>\n",
       "      <td>2</td>\n",
       "      <td>365</td>\n",
       "      <td>2015</td>\n",
       "      <td>0</td>\n",
       "      <td>1</td>\n",
       "      <td>0</td>\n",
       "      <td>0</td>\n",
       "      <td>1</td>\n",
       "      <td>0</td>\n",
       "    </tr>\n",
       "    <tr>\n",
       "      <th>3</th>\n",
       "      <td>367042</td>\n",
       "      <td>East Region</td>\n",
       "      <td>1.34541</td>\n",
       "      <td>103.95712</td>\n",
       "      <td>Private room</td>\n",
       "      <td>206</td>\n",
       "      <td>1</td>\n",
       "      <td>14</td>\n",
       "      <td>2019-08-11</td>\n",
       "      <td>0.15</td>\n",
       "      <td>9</td>\n",
       "      <td>353</td>\n",
       "      <td>2019</td>\n",
       "      <td>1</td>\n",
       "      <td>0</td>\n",
       "      <td>0</td>\n",
       "      <td>0</td>\n",
       "      <td>1</td>\n",
       "      <td>0</td>\n",
       "    </tr>\n",
       "    <tr>\n",
       "      <th>4</th>\n",
       "      <td>367042</td>\n",
       "      <td>East Region</td>\n",
       "      <td>1.34567</td>\n",
       "      <td>103.95963</td>\n",
       "      <td>Private room</td>\n",
       "      <td>94</td>\n",
       "      <td>1</td>\n",
       "      <td>22</td>\n",
       "      <td>2019-07-28</td>\n",
       "      <td>0.22</td>\n",
       "      <td>9</td>\n",
       "      <td>355</td>\n",
       "      <td>2019</td>\n",
       "      <td>1</td>\n",
       "      <td>0</td>\n",
       "      <td>0</td>\n",
       "      <td>0</td>\n",
       "      <td>1</td>\n",
       "      <td>0</td>\n",
       "    </tr>\n",
       "  </tbody>\n",
       "</table>\n",
       "</div>"
      ],
      "text/plain": [
       "   host_id neighbourhood_group  latitude  longitude     room_type  price  \\\n",
       "0   266763        North Region   1.44255  103.79580  Private room     83   \n",
       "1   227796      Central Region   1.33235  103.78521  Private room     81   \n",
       "2   266763        North Region   1.44246  103.79667  Private room     69   \n",
       "3   367042         East Region   1.34541  103.95712  Private room    206   \n",
       "4   367042         East Region   1.34567  103.95963  Private room     94   \n",
       "\n",
       "   minimum_nights  number_of_reviews last_review  reviews_per_month  \\\n",
       "0             180                  1  2013-10-21               0.01   \n",
       "1              90                 18  2014-12-26               0.28   \n",
       "2               6                 20  2015-10-01               0.20   \n",
       "3               1                 14  2019-08-11               0.15   \n",
       "4               1                 22  2019-07-28               0.22   \n",
       "\n",
       "   calculated_host_listings_count  availability_365  Year  \\\n",
       "0                               2               365  2013   \n",
       "1                               1               365  2014   \n",
       "2                               2               365  2015   \n",
       "3                               9               353  2019   \n",
       "4                               9               355  2019   \n",
       "\n",
       "   neighbourhood_group_East Region  neighbourhood_group_North Region  \\\n",
       "0                                0                                 1   \n",
       "1                                0                                 0   \n",
       "2                                0                                 1   \n",
       "3                                1                                 0   \n",
       "4                                1                                 0   \n",
       "\n",
       "   neighbourhood_group_North-East Region  neighbourhood_group_West Region  \\\n",
       "0                                      0                                0   \n",
       "1                                      0                                0   \n",
       "2                                      0                                0   \n",
       "3                                      0                                0   \n",
       "4                                      0                                0   \n",
       "\n",
       "   room_type_Private room  room_type_Shared room  \n",
       "0                       1                      0  \n",
       "1                       1                      0  \n",
       "2                       1                      0  \n",
       "3                       1                      0  \n",
       "4                       1                      0  "
      ]
     },
     "execution_count": 114,
     "metadata": {},
     "output_type": "execute_result"
    }
   ],
   "source": [
    "df3.head()"
   ]
  },
  {
   "cell_type": "code",
   "execution_count": 115,
   "id": "3b223abd",
   "metadata": {},
   "outputs": [
    {
     "data": {
      "text/plain": [
       "host_id                                  0\n",
       "neighbourhood_group                      0\n",
       "latitude                                 0\n",
       "longitude                                0\n",
       "room_type                                0\n",
       "price                                    0\n",
       "minimum_nights                           0\n",
       "number_of_reviews                        0\n",
       "last_review                              0\n",
       "reviews_per_month                        0\n",
       "calculated_host_listings_count           0\n",
       "availability_365                         0\n",
       "Year                                     0\n",
       "neighbourhood_group_East Region          0\n",
       "neighbourhood_group_North Region         0\n",
       "neighbourhood_group_North-East Region    0\n",
       "neighbourhood_group_West Region          0\n",
       "room_type_Private room                   0\n",
       "room_type_Shared room                    0\n",
       "dtype: int64"
      ]
     },
     "execution_count": 115,
     "metadata": {},
     "output_type": "execute_result"
    }
   ],
   "source": [
    "df3.isnull().sum()"
   ]
  },
  {
   "cell_type": "code",
   "execution_count": 116,
   "id": "61325e9a",
   "metadata": {
    "scrolled": true
   },
   "outputs": [],
   "source": [
    "#droppng the originl categorical columns\n",
    "df3.drop(['room_type','neighbourhood_group','Year'],axis=1,inplace=True)"
   ]
  },
  {
   "cell_type": "code",
   "execution_count": null,
   "id": "84271d3a",
   "metadata": {},
   "outputs": [],
   "source": []
  },
  {
   "cell_type": "code",
   "execution_count": 117,
   "id": "fc70bcba",
   "metadata": {
    "scrolled": true
   },
   "outputs": [
    {
     "data": {
      "text/html": [
       "<div>\n",
       "<style scoped>\n",
       "    .dataframe tbody tr th:only-of-type {\n",
       "        vertical-align: middle;\n",
       "    }\n",
       "\n",
       "    .dataframe tbody tr th {\n",
       "        vertical-align: top;\n",
       "    }\n",
       "\n",
       "    .dataframe thead th {\n",
       "        text-align: right;\n",
       "    }\n",
       "</style>\n",
       "<table border=\"1\" class=\"dataframe\">\n",
       "  <thead>\n",
       "    <tr style=\"text-align: right;\">\n",
       "      <th></th>\n",
       "      <th>host_id</th>\n",
       "      <th>latitude</th>\n",
       "      <th>longitude</th>\n",
       "      <th>price</th>\n",
       "      <th>minimum_nights</th>\n",
       "      <th>number_of_reviews</th>\n",
       "      <th>last_review</th>\n",
       "      <th>reviews_per_month</th>\n",
       "      <th>calculated_host_listings_count</th>\n",
       "      <th>availability_365</th>\n",
       "      <th>neighbourhood_group_East Region</th>\n",
       "      <th>neighbourhood_group_North Region</th>\n",
       "      <th>neighbourhood_group_North-East Region</th>\n",
       "      <th>neighbourhood_group_West Region</th>\n",
       "      <th>room_type_Private room</th>\n",
       "      <th>room_type_Shared room</th>\n",
       "    </tr>\n",
       "  </thead>\n",
       "  <tbody>\n",
       "    <tr>\n",
       "      <th>0</th>\n",
       "      <td>266763</td>\n",
       "      <td>1.44255</td>\n",
       "      <td>103.79580</td>\n",
       "      <td>83</td>\n",
       "      <td>180</td>\n",
       "      <td>1</td>\n",
       "      <td>2013-10-21</td>\n",
       "      <td>0.01</td>\n",
       "      <td>2</td>\n",
       "      <td>365</td>\n",
       "      <td>0</td>\n",
       "      <td>1</td>\n",
       "      <td>0</td>\n",
       "      <td>0</td>\n",
       "      <td>1</td>\n",
       "      <td>0</td>\n",
       "    </tr>\n",
       "    <tr>\n",
       "      <th>1</th>\n",
       "      <td>227796</td>\n",
       "      <td>1.33235</td>\n",
       "      <td>103.78521</td>\n",
       "      <td>81</td>\n",
       "      <td>90</td>\n",
       "      <td>18</td>\n",
       "      <td>2014-12-26</td>\n",
       "      <td>0.28</td>\n",
       "      <td>1</td>\n",
       "      <td>365</td>\n",
       "      <td>0</td>\n",
       "      <td>0</td>\n",
       "      <td>0</td>\n",
       "      <td>0</td>\n",
       "      <td>1</td>\n",
       "      <td>0</td>\n",
       "    </tr>\n",
       "    <tr>\n",
       "      <th>2</th>\n",
       "      <td>266763</td>\n",
       "      <td>1.44246</td>\n",
       "      <td>103.79667</td>\n",
       "      <td>69</td>\n",
       "      <td>6</td>\n",
       "      <td>20</td>\n",
       "      <td>2015-10-01</td>\n",
       "      <td>0.20</td>\n",
       "      <td>2</td>\n",
       "      <td>365</td>\n",
       "      <td>0</td>\n",
       "      <td>1</td>\n",
       "      <td>0</td>\n",
       "      <td>0</td>\n",
       "      <td>1</td>\n",
       "      <td>0</td>\n",
       "    </tr>\n",
       "    <tr>\n",
       "      <th>3</th>\n",
       "      <td>367042</td>\n",
       "      <td>1.34541</td>\n",
       "      <td>103.95712</td>\n",
       "      <td>206</td>\n",
       "      <td>1</td>\n",
       "      <td>14</td>\n",
       "      <td>2019-08-11</td>\n",
       "      <td>0.15</td>\n",
       "      <td>9</td>\n",
       "      <td>353</td>\n",
       "      <td>1</td>\n",
       "      <td>0</td>\n",
       "      <td>0</td>\n",
       "      <td>0</td>\n",
       "      <td>1</td>\n",
       "      <td>0</td>\n",
       "    </tr>\n",
       "    <tr>\n",
       "      <th>4</th>\n",
       "      <td>367042</td>\n",
       "      <td>1.34567</td>\n",
       "      <td>103.95963</td>\n",
       "      <td>94</td>\n",
       "      <td>1</td>\n",
       "      <td>22</td>\n",
       "      <td>2019-07-28</td>\n",
       "      <td>0.22</td>\n",
       "      <td>9</td>\n",
       "      <td>355</td>\n",
       "      <td>1</td>\n",
       "      <td>0</td>\n",
       "      <td>0</td>\n",
       "      <td>0</td>\n",
       "      <td>1</td>\n",
       "      <td>0</td>\n",
       "    </tr>\n",
       "  </tbody>\n",
       "</table>\n",
       "</div>"
      ],
      "text/plain": [
       "   host_id  latitude  longitude  price  minimum_nights  number_of_reviews  \\\n",
       "0   266763   1.44255  103.79580     83             180                  1   \n",
       "1   227796   1.33235  103.78521     81              90                 18   \n",
       "2   266763   1.44246  103.79667     69               6                 20   \n",
       "3   367042   1.34541  103.95712    206               1                 14   \n",
       "4   367042   1.34567  103.95963     94               1                 22   \n",
       "\n",
       "  last_review  reviews_per_month  calculated_host_listings_count  \\\n",
       "0  2013-10-21               0.01                               2   \n",
       "1  2014-12-26               0.28                               1   \n",
       "2  2015-10-01               0.20                               2   \n",
       "3  2019-08-11               0.15                               9   \n",
       "4  2019-07-28               0.22                               9   \n",
       "\n",
       "   availability_365  neighbourhood_group_East Region  \\\n",
       "0               365                                0   \n",
       "1               365                                0   \n",
       "2               365                                0   \n",
       "3               353                                1   \n",
       "4               355                                1   \n",
       "\n",
       "   neighbourhood_group_North Region  neighbourhood_group_North-East Region  \\\n",
       "0                                 1                                      0   \n",
       "1                                 0                                      0   \n",
       "2                                 1                                      0   \n",
       "3                                 0                                      0   \n",
       "4                                 0                                      0   \n",
       "\n",
       "   neighbourhood_group_West Region  room_type_Private room  \\\n",
       "0                                0                       1   \n",
       "1                                0                       1   \n",
       "2                                0                       1   \n",
       "3                                0                       1   \n",
       "4                                0                       1   \n",
       "\n",
       "   room_type_Shared room  \n",
       "0                      0  \n",
       "1                      0  \n",
       "2                      0  \n",
       "3                      0  \n",
       "4                      0  "
      ]
     },
     "execution_count": 117,
     "metadata": {},
     "output_type": "execute_result"
    }
   ],
   "source": [
    "df3.head()"
   ]
  },
  {
   "cell_type": "code",
   "execution_count": 118,
   "id": "e2a5fd63",
   "metadata": {},
   "outputs": [],
   "source": [
    "df3['last_review_day']=df3['last_review'].dt.day\n",
    "df3['last_review_month']=df3['last_review'].dt.month\n",
    "df3['last_review_year']=df3['last_review'].dt.year"
   ]
  },
  {
   "cell_type": "code",
   "execution_count": 119,
   "id": "dffdc239",
   "metadata": {
    "scrolled": true
   },
   "outputs": [
    {
     "data": {
      "text/plain": [
       "host_id                                           int64\n",
       "latitude                                        float64\n",
       "longitude                                       float64\n",
       "price                                             int64\n",
       "minimum_nights                                    int64\n",
       "number_of_reviews                                 int64\n",
       "last_review                              datetime64[ns]\n",
       "reviews_per_month                               float64\n",
       "calculated_host_listings_count                    int64\n",
       "availability_365                                  int64\n",
       "neighbourhood_group_East Region                   uint8\n",
       "neighbourhood_group_North Region                  uint8\n",
       "neighbourhood_group_North-East Region             uint8\n",
       "neighbourhood_group_West Region                   uint8\n",
       "room_type_Private room                            uint8\n",
       "room_type_Shared room                             uint8\n",
       "last_review_day                                   int64\n",
       "last_review_month                                 int64\n",
       "last_review_year                                  int64\n",
       "dtype: object"
      ]
     },
     "execution_count": 119,
     "metadata": {},
     "output_type": "execute_result"
    }
   ],
   "source": [
    "df3.dtypes"
   ]
  },
  {
   "cell_type": "markdown",
   "id": "d80a9c93",
   "metadata": {},
   "source": [
    "### "
   ]
  },
  {
   "cell_type": "code",
   "execution_count": 120,
   "id": "30b43e61",
   "metadata": {},
   "outputs": [
    {
     "data": {
      "text/plain": [
       "(7465, 19)"
      ]
     },
     "execution_count": 120,
     "metadata": {},
     "output_type": "execute_result"
    }
   ],
   "source": [
    "df3.shape"
   ]
  },
  {
   "cell_type": "code",
   "execution_count": 121,
   "id": "8fbdc103",
   "metadata": {},
   "outputs": [],
   "source": [
    "df3.drop('last_review',axis=1,inplace=True)"
   ]
  },
  {
   "cell_type": "code",
   "execution_count": 122,
   "id": "01ca2eef",
   "metadata": {
    "scrolled": true
   },
   "outputs": [
    {
     "data": {
      "text/html": [
       "<div>\n",
       "<style scoped>\n",
       "    .dataframe tbody tr th:only-of-type {\n",
       "        vertical-align: middle;\n",
       "    }\n",
       "\n",
       "    .dataframe tbody tr th {\n",
       "        vertical-align: top;\n",
       "    }\n",
       "\n",
       "    .dataframe thead th {\n",
       "        text-align: right;\n",
       "    }\n",
       "</style>\n",
       "<table border=\"1\" class=\"dataframe\">\n",
       "  <thead>\n",
       "    <tr style=\"text-align: right;\">\n",
       "      <th></th>\n",
       "      <th>host_id</th>\n",
       "      <th>latitude</th>\n",
       "      <th>longitude</th>\n",
       "      <th>price</th>\n",
       "      <th>minimum_nights</th>\n",
       "      <th>number_of_reviews</th>\n",
       "      <th>reviews_per_month</th>\n",
       "      <th>calculated_host_listings_count</th>\n",
       "      <th>availability_365</th>\n",
       "      <th>neighbourhood_group_East Region</th>\n",
       "      <th>neighbourhood_group_North Region</th>\n",
       "      <th>neighbourhood_group_North-East Region</th>\n",
       "      <th>neighbourhood_group_West Region</th>\n",
       "      <th>room_type_Private room</th>\n",
       "      <th>room_type_Shared room</th>\n",
       "      <th>last_review_day</th>\n",
       "      <th>last_review_month</th>\n",
       "      <th>last_review_year</th>\n",
       "    </tr>\n",
       "  </thead>\n",
       "  <tbody>\n",
       "    <tr>\n",
       "      <th>host_id</th>\n",
       "      <td>1.000000</td>\n",
       "      <td>-0.034976</td>\n",
       "      <td>-0.018347</td>\n",
       "      <td>0.137207</td>\n",
       "      <td>-0.086994</td>\n",
       "      <td>-0.171839</td>\n",
       "      <td>0.042775</td>\n",
       "      <td>-0.065277</td>\n",
       "      <td>0.031410</td>\n",
       "      <td>-0.033522</td>\n",
       "      <td>-0.003509</td>\n",
       "      <td>-0.020512</td>\n",
       "      <td>0.004162</td>\n",
       "      <td>-0.099244</td>\n",
       "      <td>0.003498</td>\n",
       "      <td>-0.127190</td>\n",
       "      <td>-0.144306</td>\n",
       "      <td>-0.136958</td>\n",
       "    </tr>\n",
       "    <tr>\n",
       "      <th>latitude</th>\n",
       "      <td>-0.034976</td>\n",
       "      <td>1.000000</td>\n",
       "      <td>-0.039805</td>\n",
       "      <td>-0.193286</td>\n",
       "      <td>0.079498</td>\n",
       "      <td>-0.010143</td>\n",
       "      <td>-0.029241</td>\n",
       "      <td>-0.158215</td>\n",
       "      <td>-0.065936</td>\n",
       "      <td>0.133258</td>\n",
       "      <td>0.561366</td>\n",
       "      <td>0.425901</td>\n",
       "      <td>0.264852</td>\n",
       "      <td>0.225879</td>\n",
       "      <td>-0.064336</td>\n",
       "      <td>-0.008663</td>\n",
       "      <td>-0.020478</td>\n",
       "      <td>-0.056909</td>\n",
       "    </tr>\n",
       "    <tr>\n",
       "      <th>longitude</th>\n",
       "      <td>-0.018347</td>\n",
       "      <td>-0.039805</td>\n",
       "      <td>1.000000</td>\n",
       "      <td>0.026925</td>\n",
       "      <td>-0.034765</td>\n",
       "      <td>0.105870</td>\n",
       "      <td>0.100434</td>\n",
       "      <td>0.050067</td>\n",
       "      <td>-0.040369</td>\n",
       "      <td>0.487298</td>\n",
       "      <td>-0.129893</td>\n",
       "      <td>0.150845</td>\n",
       "      <td>-0.677438</td>\n",
       "      <td>-0.062457</td>\n",
       "      <td>-0.020050</td>\n",
       "      <td>0.018563</td>\n",
       "      <td>0.024997</td>\n",
       "      <td>0.041076</td>\n",
       "    </tr>\n",
       "    <tr>\n",
       "      <th>price</th>\n",
       "      <td>0.137207</td>\n",
       "      <td>-0.193286</td>\n",
       "      <td>0.026925</td>\n",
       "      <td>1.000000</td>\n",
       "      <td>-0.103779</td>\n",
       "      <td>-0.063329</td>\n",
       "      <td>-0.011324</td>\n",
       "      <td>0.239132</td>\n",
       "      <td>0.101718</td>\n",
       "      <td>-0.084084</td>\n",
       "      <td>-0.081899</td>\n",
       "      <td>-0.135194</td>\n",
       "      <td>-0.097387</td>\n",
       "      <td>-0.539196</td>\n",
       "      <td>-0.236549</td>\n",
       "      <td>-0.063175</td>\n",
       "      <td>-0.063482</td>\n",
       "      <td>-0.055937</td>\n",
       "    </tr>\n",
       "    <tr>\n",
       "      <th>minimum_nights</th>\n",
       "      <td>-0.086994</td>\n",
       "      <td>0.079498</td>\n",
       "      <td>-0.034765</td>\n",
       "      <td>-0.103779</td>\n",
       "      <td>1.000000</td>\n",
       "      <td>-0.078693</td>\n",
       "      <td>-0.152073</td>\n",
       "      <td>-0.014064</td>\n",
       "      <td>0.161170</td>\n",
       "      <td>0.045937</td>\n",
       "      <td>0.043997</td>\n",
       "      <td>0.063021</td>\n",
       "      <td>0.027560</td>\n",
       "      <td>0.079370</td>\n",
       "      <td>-0.077422</td>\n",
       "      <td>-0.108812</td>\n",
       "      <td>-0.142756</td>\n",
       "      <td>-0.195695</td>\n",
       "    </tr>\n",
       "    <tr>\n",
       "      <th>number_of_reviews</th>\n",
       "      <td>-0.171839</td>\n",
       "      <td>-0.010143</td>\n",
       "      <td>0.105870</td>\n",
       "      <td>-0.063329</td>\n",
       "      <td>-0.078693</td>\n",
       "      <td>1.000000</td>\n",
       "      <td>0.678387</td>\n",
       "      <td>-0.152160</td>\n",
       "      <td>-0.068247</td>\n",
       "      <td>0.055805</td>\n",
       "      <td>-0.017793</td>\n",
       "      <td>-0.004579</td>\n",
       "      <td>-0.060796</td>\n",
       "      <td>0.027122</td>\n",
       "      <td>-0.002190</td>\n",
       "      <td>0.209281</td>\n",
       "      <td>0.321807</td>\n",
       "      <td>0.352945</td>\n",
       "    </tr>\n",
       "    <tr>\n",
       "      <th>reviews_per_month</th>\n",
       "      <td>0.042775</td>\n",
       "      <td>-0.029241</td>\n",
       "      <td>0.100434</td>\n",
       "      <td>-0.011324</td>\n",
       "      <td>-0.152073</td>\n",
       "      <td>0.678387</td>\n",
       "      <td>1.000000</td>\n",
       "      <td>-0.180813</td>\n",
       "      <td>-0.110375</td>\n",
       "      <td>0.017159</td>\n",
       "      <td>-0.011641</td>\n",
       "      <td>-0.008380</td>\n",
       "      <td>-0.073661</td>\n",
       "      <td>0.008928</td>\n",
       "      <td>-0.027645</td>\n",
       "      <td>0.312970</td>\n",
       "      <td>0.455500</td>\n",
       "      <td>0.494380</td>\n",
       "    </tr>\n",
       "    <tr>\n",
       "      <th>calculated_host_listings_count</th>\n",
       "      <td>-0.065277</td>\n",
       "      <td>-0.158215</td>\n",
       "      <td>0.050067</td>\n",
       "      <td>0.239132</td>\n",
       "      <td>-0.014064</td>\n",
       "      <td>-0.152160</td>\n",
       "      <td>-0.180813</td>\n",
       "      <td>1.000000</td>\n",
       "      <td>0.246540</td>\n",
       "      <td>-0.115453</td>\n",
       "      <td>-0.065278</td>\n",
       "      <td>-0.125259</td>\n",
       "      <td>-0.076793</td>\n",
       "      <td>-0.336252</td>\n",
       "      <td>-0.076938</td>\n",
       "      <td>-0.079531</td>\n",
       "      <td>-0.140941</td>\n",
       "      <td>-0.091664</td>\n",
       "    </tr>\n",
       "    <tr>\n",
       "      <th>availability_365</th>\n",
       "      <td>0.031410</td>\n",
       "      <td>-0.065936</td>\n",
       "      <td>-0.040369</td>\n",
       "      <td>0.101718</td>\n",
       "      <td>0.161170</td>\n",
       "      <td>-0.068247</td>\n",
       "      <td>-0.110375</td>\n",
       "      <td>0.246540</td>\n",
       "      <td>1.000000</td>\n",
       "      <td>-0.059800</td>\n",
       "      <td>0.007848</td>\n",
       "      <td>-0.060002</td>\n",
       "      <td>-0.033653</td>\n",
       "      <td>-0.051410</td>\n",
       "      <td>0.110696</td>\n",
       "      <td>-0.059578</td>\n",
       "      <td>-0.061135</td>\n",
       "      <td>-0.033898</td>\n",
       "    </tr>\n",
       "    <tr>\n",
       "      <th>neighbourhood_group_East Region</th>\n",
       "      <td>-0.033522</td>\n",
       "      <td>0.133258</td>\n",
       "      <td>0.487298</td>\n",
       "      <td>-0.084084</td>\n",
       "      <td>0.045937</td>\n",
       "      <td>0.055805</td>\n",
       "      <td>0.017159</td>\n",
       "      <td>-0.115453</td>\n",
       "      <td>-0.059800</td>\n",
       "      <td>1.000000</td>\n",
       "      <td>-0.043436</td>\n",
       "      <td>-0.057730</td>\n",
       "      <td>-0.073213</td>\n",
       "      <td>0.153436</td>\n",
       "      <td>-0.040283</td>\n",
       "      <td>0.019442</td>\n",
       "      <td>0.011303</td>\n",
       "      <td>0.009669</td>\n",
       "    </tr>\n",
       "    <tr>\n",
       "      <th>neighbourhood_group_North Region</th>\n",
       "      <td>-0.003509</td>\n",
       "      <td>0.561366</td>\n",
       "      <td>-0.129893</td>\n",
       "      <td>-0.081899</td>\n",
       "      <td>0.043997</td>\n",
       "      <td>-0.017793</td>\n",
       "      <td>-0.011641</td>\n",
       "      <td>-0.065278</td>\n",
       "      <td>0.007848</td>\n",
       "      <td>-0.043436</td>\n",
       "      <td>1.000000</td>\n",
       "      <td>-0.035462</td>\n",
       "      <td>-0.044973</td>\n",
       "      <td>0.087011</td>\n",
       "      <td>-0.004015</td>\n",
       "      <td>-0.030255</td>\n",
       "      <td>-0.023770</td>\n",
       "      <td>-0.047794</td>\n",
       "    </tr>\n",
       "    <tr>\n",
       "      <th>neighbourhood_group_North-East Region</th>\n",
       "      <td>-0.020512</td>\n",
       "      <td>0.425901</td>\n",
       "      <td>0.150845</td>\n",
       "      <td>-0.135194</td>\n",
       "      <td>0.063021</td>\n",
       "      <td>-0.004579</td>\n",
       "      <td>-0.008380</td>\n",
       "      <td>-0.125259</td>\n",
       "      <td>-0.060002</td>\n",
       "      <td>-0.057730</td>\n",
       "      <td>-0.035462</td>\n",
       "      <td>1.000000</td>\n",
       "      <td>-0.059772</td>\n",
       "      <td>0.151715</td>\n",
       "      <td>-0.021621</td>\n",
       "      <td>0.016630</td>\n",
       "      <td>-0.010256</td>\n",
       "      <td>-0.020556</td>\n",
       "    </tr>\n",
       "    <tr>\n",
       "      <th>neighbourhood_group_West Region</th>\n",
       "      <td>0.004162</td>\n",
       "      <td>0.264852</td>\n",
       "      <td>-0.677438</td>\n",
       "      <td>-0.097387</td>\n",
       "      <td>0.027560</td>\n",
       "      <td>-0.060796</td>\n",
       "      <td>-0.073661</td>\n",
       "      <td>-0.076793</td>\n",
       "      <td>-0.033653</td>\n",
       "      <td>-0.073213</td>\n",
       "      <td>-0.044973</td>\n",
       "      <td>-0.059772</td>\n",
       "      <td>1.000000</td>\n",
       "      <td>0.148292</td>\n",
       "      <td>-0.028966</td>\n",
       "      <td>0.000900</td>\n",
       "      <td>-0.013202</td>\n",
       "      <td>-0.027935</td>\n",
       "    </tr>\n",
       "    <tr>\n",
       "      <th>room_type_Private room</th>\n",
       "      <td>-0.099244</td>\n",
       "      <td>0.225879</td>\n",
       "      <td>-0.062457</td>\n",
       "      <td>-0.539196</td>\n",
       "      <td>0.079370</td>\n",
       "      <td>0.027122</td>\n",
       "      <td>0.008928</td>\n",
       "      <td>-0.336252</td>\n",
       "      <td>-0.051410</td>\n",
       "      <td>0.153436</td>\n",
       "      <td>0.087011</td>\n",
       "      <td>0.151715</td>\n",
       "      <td>0.148292</td>\n",
       "      <td>1.000000</td>\n",
       "      <td>-0.207968</td>\n",
       "      <td>0.028906</td>\n",
       "      <td>0.028981</td>\n",
       "      <td>-0.010905</td>\n",
       "    </tr>\n",
       "    <tr>\n",
       "      <th>room_type_Shared room</th>\n",
       "      <td>0.003498</td>\n",
       "      <td>-0.064336</td>\n",
       "      <td>-0.020050</td>\n",
       "      <td>-0.236549</td>\n",
       "      <td>-0.077422</td>\n",
       "      <td>-0.002190</td>\n",
       "      <td>-0.027645</td>\n",
       "      <td>-0.076938</td>\n",
       "      <td>0.110696</td>\n",
       "      <td>-0.040283</td>\n",
       "      <td>-0.004015</td>\n",
       "      <td>-0.021621</td>\n",
       "      <td>-0.028966</td>\n",
       "      <td>-0.207968</td>\n",
       "      <td>1.000000</td>\n",
       "      <td>0.010754</td>\n",
       "      <td>0.012926</td>\n",
       "      <td>0.029583</td>\n",
       "    </tr>\n",
       "    <tr>\n",
       "      <th>last_review_day</th>\n",
       "      <td>-0.127190</td>\n",
       "      <td>-0.008663</td>\n",
       "      <td>0.018563</td>\n",
       "      <td>-0.063175</td>\n",
       "      <td>-0.108812</td>\n",
       "      <td>0.209281</td>\n",
       "      <td>0.312970</td>\n",
       "      <td>-0.079531</td>\n",
       "      <td>-0.059578</td>\n",
       "      <td>0.019442</td>\n",
       "      <td>-0.030255</td>\n",
       "      <td>0.016630</td>\n",
       "      <td>0.000900</td>\n",
       "      <td>0.028906</td>\n",
       "      <td>0.010754</td>\n",
       "      <td>1.000000</td>\n",
       "      <td>0.557730</td>\n",
       "      <td>0.678905</td>\n",
       "    </tr>\n",
       "    <tr>\n",
       "      <th>last_review_month</th>\n",
       "      <td>-0.144306</td>\n",
       "      <td>-0.020478</td>\n",
       "      <td>0.024997</td>\n",
       "      <td>-0.063482</td>\n",
       "      <td>-0.142756</td>\n",
       "      <td>0.321807</td>\n",
       "      <td>0.455500</td>\n",
       "      <td>-0.140941</td>\n",
       "      <td>-0.061135</td>\n",
       "      <td>0.011303</td>\n",
       "      <td>-0.023770</td>\n",
       "      <td>-0.010256</td>\n",
       "      <td>-0.013202</td>\n",
       "      <td>0.028981</td>\n",
       "      <td>0.012926</td>\n",
       "      <td>0.557730</td>\n",
       "      <td>1.000000</td>\n",
       "      <td>0.757934</td>\n",
       "    </tr>\n",
       "    <tr>\n",
       "      <th>last_review_year</th>\n",
       "      <td>-0.136958</td>\n",
       "      <td>-0.056909</td>\n",
       "      <td>0.041076</td>\n",
       "      <td>-0.055937</td>\n",
       "      <td>-0.195695</td>\n",
       "      <td>0.352945</td>\n",
       "      <td>0.494380</td>\n",
       "      <td>-0.091664</td>\n",
       "      <td>-0.033898</td>\n",
       "      <td>0.009669</td>\n",
       "      <td>-0.047794</td>\n",
       "      <td>-0.020556</td>\n",
       "      <td>-0.027935</td>\n",
       "      <td>-0.010905</td>\n",
       "      <td>0.029583</td>\n",
       "      <td>0.678905</td>\n",
       "      <td>0.757934</td>\n",
       "      <td>1.000000</td>\n",
       "    </tr>\n",
       "  </tbody>\n",
       "</table>\n",
       "</div>"
      ],
      "text/plain": [
       "                                        host_id  latitude  longitude  \\\n",
       "host_id                                1.000000 -0.034976  -0.018347   \n",
       "latitude                              -0.034976  1.000000  -0.039805   \n",
       "longitude                             -0.018347 -0.039805   1.000000   \n",
       "price                                  0.137207 -0.193286   0.026925   \n",
       "minimum_nights                        -0.086994  0.079498  -0.034765   \n",
       "number_of_reviews                     -0.171839 -0.010143   0.105870   \n",
       "reviews_per_month                      0.042775 -0.029241   0.100434   \n",
       "calculated_host_listings_count        -0.065277 -0.158215   0.050067   \n",
       "availability_365                       0.031410 -0.065936  -0.040369   \n",
       "neighbourhood_group_East Region       -0.033522  0.133258   0.487298   \n",
       "neighbourhood_group_North Region      -0.003509  0.561366  -0.129893   \n",
       "neighbourhood_group_North-East Region -0.020512  0.425901   0.150845   \n",
       "neighbourhood_group_West Region        0.004162  0.264852  -0.677438   \n",
       "room_type_Private room                -0.099244  0.225879  -0.062457   \n",
       "room_type_Shared room                  0.003498 -0.064336  -0.020050   \n",
       "last_review_day                       -0.127190 -0.008663   0.018563   \n",
       "last_review_month                     -0.144306 -0.020478   0.024997   \n",
       "last_review_year                      -0.136958 -0.056909   0.041076   \n",
       "\n",
       "                                          price  minimum_nights  \\\n",
       "host_id                                0.137207       -0.086994   \n",
       "latitude                              -0.193286        0.079498   \n",
       "longitude                              0.026925       -0.034765   \n",
       "price                                  1.000000       -0.103779   \n",
       "minimum_nights                        -0.103779        1.000000   \n",
       "number_of_reviews                     -0.063329       -0.078693   \n",
       "reviews_per_month                     -0.011324       -0.152073   \n",
       "calculated_host_listings_count         0.239132       -0.014064   \n",
       "availability_365                       0.101718        0.161170   \n",
       "neighbourhood_group_East Region       -0.084084        0.045937   \n",
       "neighbourhood_group_North Region      -0.081899        0.043997   \n",
       "neighbourhood_group_North-East Region -0.135194        0.063021   \n",
       "neighbourhood_group_West Region       -0.097387        0.027560   \n",
       "room_type_Private room                -0.539196        0.079370   \n",
       "room_type_Shared room                 -0.236549       -0.077422   \n",
       "last_review_day                       -0.063175       -0.108812   \n",
       "last_review_month                     -0.063482       -0.142756   \n",
       "last_review_year                      -0.055937       -0.195695   \n",
       "\n",
       "                                       number_of_reviews  reviews_per_month  \\\n",
       "host_id                                        -0.171839           0.042775   \n",
       "latitude                                       -0.010143          -0.029241   \n",
       "longitude                                       0.105870           0.100434   \n",
       "price                                          -0.063329          -0.011324   \n",
       "minimum_nights                                 -0.078693          -0.152073   \n",
       "number_of_reviews                               1.000000           0.678387   \n",
       "reviews_per_month                               0.678387           1.000000   \n",
       "calculated_host_listings_count                 -0.152160          -0.180813   \n",
       "availability_365                               -0.068247          -0.110375   \n",
       "neighbourhood_group_East Region                 0.055805           0.017159   \n",
       "neighbourhood_group_North Region               -0.017793          -0.011641   \n",
       "neighbourhood_group_North-East Region          -0.004579          -0.008380   \n",
       "neighbourhood_group_West Region                -0.060796          -0.073661   \n",
       "room_type_Private room                          0.027122           0.008928   \n",
       "room_type_Shared room                          -0.002190          -0.027645   \n",
       "last_review_day                                 0.209281           0.312970   \n",
       "last_review_month                               0.321807           0.455500   \n",
       "last_review_year                                0.352945           0.494380   \n",
       "\n",
       "                                       calculated_host_listings_count  \\\n",
       "host_id                                                     -0.065277   \n",
       "latitude                                                    -0.158215   \n",
       "longitude                                                    0.050067   \n",
       "price                                                        0.239132   \n",
       "minimum_nights                                              -0.014064   \n",
       "number_of_reviews                                           -0.152160   \n",
       "reviews_per_month                                           -0.180813   \n",
       "calculated_host_listings_count                               1.000000   \n",
       "availability_365                                             0.246540   \n",
       "neighbourhood_group_East Region                             -0.115453   \n",
       "neighbourhood_group_North Region                            -0.065278   \n",
       "neighbourhood_group_North-East Region                       -0.125259   \n",
       "neighbourhood_group_West Region                             -0.076793   \n",
       "room_type_Private room                                      -0.336252   \n",
       "room_type_Shared room                                       -0.076938   \n",
       "last_review_day                                             -0.079531   \n",
       "last_review_month                                           -0.140941   \n",
       "last_review_year                                            -0.091664   \n",
       "\n",
       "                                       availability_365  \\\n",
       "host_id                                        0.031410   \n",
       "latitude                                      -0.065936   \n",
       "longitude                                     -0.040369   \n",
       "price                                          0.101718   \n",
       "minimum_nights                                 0.161170   \n",
       "number_of_reviews                             -0.068247   \n",
       "reviews_per_month                             -0.110375   \n",
       "calculated_host_listings_count                 0.246540   \n",
       "availability_365                               1.000000   \n",
       "neighbourhood_group_East Region               -0.059800   \n",
       "neighbourhood_group_North Region               0.007848   \n",
       "neighbourhood_group_North-East Region         -0.060002   \n",
       "neighbourhood_group_West Region               -0.033653   \n",
       "room_type_Private room                        -0.051410   \n",
       "room_type_Shared room                          0.110696   \n",
       "last_review_day                               -0.059578   \n",
       "last_review_month                             -0.061135   \n",
       "last_review_year                              -0.033898   \n",
       "\n",
       "                                       neighbourhood_group_East Region  \\\n",
       "host_id                                                      -0.033522   \n",
       "latitude                                                      0.133258   \n",
       "longitude                                                     0.487298   \n",
       "price                                                        -0.084084   \n",
       "minimum_nights                                                0.045937   \n",
       "number_of_reviews                                             0.055805   \n",
       "reviews_per_month                                             0.017159   \n",
       "calculated_host_listings_count                               -0.115453   \n",
       "availability_365                                             -0.059800   \n",
       "neighbourhood_group_East Region                               1.000000   \n",
       "neighbourhood_group_North Region                             -0.043436   \n",
       "neighbourhood_group_North-East Region                        -0.057730   \n",
       "neighbourhood_group_West Region                              -0.073213   \n",
       "room_type_Private room                                        0.153436   \n",
       "room_type_Shared room                                        -0.040283   \n",
       "last_review_day                                               0.019442   \n",
       "last_review_month                                             0.011303   \n",
       "last_review_year                                              0.009669   \n",
       "\n",
       "                                       neighbourhood_group_North Region  \\\n",
       "host_id                                                       -0.003509   \n",
       "latitude                                                       0.561366   \n",
       "longitude                                                     -0.129893   \n",
       "price                                                         -0.081899   \n",
       "minimum_nights                                                 0.043997   \n",
       "number_of_reviews                                             -0.017793   \n",
       "reviews_per_month                                             -0.011641   \n",
       "calculated_host_listings_count                                -0.065278   \n",
       "availability_365                                               0.007848   \n",
       "neighbourhood_group_East Region                               -0.043436   \n",
       "neighbourhood_group_North Region                               1.000000   \n",
       "neighbourhood_group_North-East Region                         -0.035462   \n",
       "neighbourhood_group_West Region                               -0.044973   \n",
       "room_type_Private room                                         0.087011   \n",
       "room_type_Shared room                                         -0.004015   \n",
       "last_review_day                                               -0.030255   \n",
       "last_review_month                                             -0.023770   \n",
       "last_review_year                                              -0.047794   \n",
       "\n",
       "                                       neighbourhood_group_North-East Region  \\\n",
       "host_id                                                            -0.020512   \n",
       "latitude                                                            0.425901   \n",
       "longitude                                                           0.150845   \n",
       "price                                                              -0.135194   \n",
       "minimum_nights                                                      0.063021   \n",
       "number_of_reviews                                                  -0.004579   \n",
       "reviews_per_month                                                  -0.008380   \n",
       "calculated_host_listings_count                                     -0.125259   \n",
       "availability_365                                                   -0.060002   \n",
       "neighbourhood_group_East Region                                    -0.057730   \n",
       "neighbourhood_group_North Region                                   -0.035462   \n",
       "neighbourhood_group_North-East Region                               1.000000   \n",
       "neighbourhood_group_West Region                                    -0.059772   \n",
       "room_type_Private room                                              0.151715   \n",
       "room_type_Shared room                                              -0.021621   \n",
       "last_review_day                                                     0.016630   \n",
       "last_review_month                                                  -0.010256   \n",
       "last_review_year                                                   -0.020556   \n",
       "\n",
       "                                       neighbourhood_group_West Region  \\\n",
       "host_id                                                       0.004162   \n",
       "latitude                                                      0.264852   \n",
       "longitude                                                    -0.677438   \n",
       "price                                                        -0.097387   \n",
       "minimum_nights                                                0.027560   \n",
       "number_of_reviews                                            -0.060796   \n",
       "reviews_per_month                                            -0.073661   \n",
       "calculated_host_listings_count                               -0.076793   \n",
       "availability_365                                             -0.033653   \n",
       "neighbourhood_group_East Region                              -0.073213   \n",
       "neighbourhood_group_North Region                             -0.044973   \n",
       "neighbourhood_group_North-East Region                        -0.059772   \n",
       "neighbourhood_group_West Region                               1.000000   \n",
       "room_type_Private room                                        0.148292   \n",
       "room_type_Shared room                                        -0.028966   \n",
       "last_review_day                                               0.000900   \n",
       "last_review_month                                            -0.013202   \n",
       "last_review_year                                             -0.027935   \n",
       "\n",
       "                                       room_type_Private room  \\\n",
       "host_id                                             -0.099244   \n",
       "latitude                                             0.225879   \n",
       "longitude                                           -0.062457   \n",
       "price                                               -0.539196   \n",
       "minimum_nights                                       0.079370   \n",
       "number_of_reviews                                    0.027122   \n",
       "reviews_per_month                                    0.008928   \n",
       "calculated_host_listings_count                      -0.336252   \n",
       "availability_365                                    -0.051410   \n",
       "neighbourhood_group_East Region                      0.153436   \n",
       "neighbourhood_group_North Region                     0.087011   \n",
       "neighbourhood_group_North-East Region                0.151715   \n",
       "neighbourhood_group_West Region                      0.148292   \n",
       "room_type_Private room                               1.000000   \n",
       "room_type_Shared room                               -0.207968   \n",
       "last_review_day                                      0.028906   \n",
       "last_review_month                                    0.028981   \n",
       "last_review_year                                    -0.010905   \n",
       "\n",
       "                                       room_type_Shared room  last_review_day  \\\n",
       "host_id                                             0.003498        -0.127190   \n",
       "latitude                                           -0.064336        -0.008663   \n",
       "longitude                                          -0.020050         0.018563   \n",
       "price                                              -0.236549        -0.063175   \n",
       "minimum_nights                                     -0.077422        -0.108812   \n",
       "number_of_reviews                                  -0.002190         0.209281   \n",
       "reviews_per_month                                  -0.027645         0.312970   \n",
       "calculated_host_listings_count                     -0.076938        -0.079531   \n",
       "availability_365                                    0.110696        -0.059578   \n",
       "neighbourhood_group_East Region                    -0.040283         0.019442   \n",
       "neighbourhood_group_North Region                   -0.004015        -0.030255   \n",
       "neighbourhood_group_North-East Region              -0.021621         0.016630   \n",
       "neighbourhood_group_West Region                    -0.028966         0.000900   \n",
       "room_type_Private room                             -0.207968         0.028906   \n",
       "room_type_Shared room                               1.000000         0.010754   \n",
       "last_review_day                                     0.010754         1.000000   \n",
       "last_review_month                                   0.012926         0.557730   \n",
       "last_review_year                                    0.029583         0.678905   \n",
       "\n",
       "                                       last_review_month  last_review_year  \n",
       "host_id                                        -0.144306         -0.136958  \n",
       "latitude                                       -0.020478         -0.056909  \n",
       "longitude                                       0.024997          0.041076  \n",
       "price                                          -0.063482         -0.055937  \n",
       "minimum_nights                                 -0.142756         -0.195695  \n",
       "number_of_reviews                               0.321807          0.352945  \n",
       "reviews_per_month                               0.455500          0.494380  \n",
       "calculated_host_listings_count                 -0.140941         -0.091664  \n",
       "availability_365                               -0.061135         -0.033898  \n",
       "neighbourhood_group_East Region                 0.011303          0.009669  \n",
       "neighbourhood_group_North Region               -0.023770         -0.047794  \n",
       "neighbourhood_group_North-East Region          -0.010256         -0.020556  \n",
       "neighbourhood_group_West Region                -0.013202         -0.027935  \n",
       "room_type_Private room                          0.028981         -0.010905  \n",
       "room_type_Shared room                           0.012926          0.029583  \n",
       "last_review_day                                 0.557730          0.678905  \n",
       "last_review_month                               1.000000          0.757934  \n",
       "last_review_year                                0.757934          1.000000  "
      ]
     },
     "execution_count": 122,
     "metadata": {},
     "output_type": "execute_result"
    }
   ],
   "source": [
    "#Correlation check for multi-colinearity\n",
    "R_corr=df3.corr()\n",
    "R_corr"
   ]
  },
  {
   "cell_type": "code",
   "execution_count": 123,
   "id": "6c4cbf48",
   "metadata": {
    "scrolled": false
   },
   "outputs": [
    {
     "data": {
      "text/plain": [
       "<AxesSubplot:>"
      ]
     },
     "execution_count": 123,
     "metadata": {},
     "output_type": "execute_result"
    },
    {
     "data": {
      "image/png": "[encoded data removed]",
      "text/plain": [
       "<Figure size 1080x1080 with 2 Axes>"
      ]
     },
     "metadata": {},
     "output_type": "display_data"
    }
   ],
   "source": [
    "plt.figure(figsize=(15,15))\n",
    "sns.heatmap(R_corr,cmap='YlGn',annot=True)"
   ]
  },
  {
   "cell_type": "markdown",
   "id": "947fe9bc",
   "metadata": {},
   "source": [
    "The 'Entire home/apt' column has a high correlation with the 'Private room' column, so to avoid multi-collinearity we will be dropping one of them'"
   ]
  },
  {
   "cell_type": "code",
   "execution_count": 125,
   "id": "f15bfad5",
   "metadata": {},
   "outputs": [
    {
     "data": {
      "text/html": [
       "<div>\n",
       "<style scoped>\n",
       "    .dataframe tbody tr th:only-of-type {\n",
       "        vertical-align: middle;\n",
       "    }\n",
       "\n",
       "    .dataframe tbody tr th {\n",
       "        vertical-align: top;\n",
       "    }\n",
       "\n",
       "    .dataframe thead th {\n",
       "        text-align: right;\n",
       "    }\n",
       "</style>\n",
       "<table border=\"1\" class=\"dataframe\">\n",
       "  <thead>\n",
       "    <tr style=\"text-align: right;\">\n",
       "      <th></th>\n",
       "      <th>host_id</th>\n",
       "      <th>latitude</th>\n",
       "      <th>longitude</th>\n",
       "      <th>price</th>\n",
       "      <th>minimum_nights</th>\n",
       "      <th>number_of_reviews</th>\n",
       "      <th>reviews_per_month</th>\n",
       "      <th>calculated_host_listings_count</th>\n",
       "      <th>availability_365</th>\n",
       "      <th>neighbourhood_group_East Region</th>\n",
       "      <th>neighbourhood_group_North Region</th>\n",
       "      <th>neighbourhood_group_North-East Region</th>\n",
       "      <th>neighbourhood_group_West Region</th>\n",
       "      <th>room_type_Private room</th>\n",
       "      <th>room_type_Shared room</th>\n",
       "      <th>last_review_day</th>\n",
       "      <th>last_review_month</th>\n",
       "      <th>last_review_year</th>\n",
       "    </tr>\n",
       "  </thead>\n",
       "  <tbody>\n",
       "    <tr>\n",
       "      <th>0</th>\n",
       "      <td>266763</td>\n",
       "      <td>1.44255</td>\n",
       "      <td>103.7958</td>\n",
       "      <td>83</td>\n",
       "      <td>180</td>\n",
       "      <td>1</td>\n",
       "      <td>0.01</td>\n",
       "      <td>2</td>\n",
       "      <td>365</td>\n",
       "      <td>0</td>\n",
       "      <td>1</td>\n",
       "      <td>0</td>\n",
       "      <td>0</td>\n",
       "      <td>1</td>\n",
       "      <td>0</td>\n",
       "      <td>21</td>\n",
       "      <td>10</td>\n",
       "      <td>2013</td>\n",
       "    </tr>\n",
       "  </tbody>\n",
       "</table>\n",
       "</div>"
      ],
      "text/plain": [
       "   host_id  latitude  longitude  price  minimum_nights  number_of_reviews  \\\n",
       "0   266763   1.44255   103.7958     83             180                  1   \n",
       "\n",
       "   reviews_per_month  calculated_host_listings_count  availability_365  \\\n",
       "0               0.01                               2               365   \n",
       "\n",
       "   neighbourhood_group_East Region  neighbourhood_group_North Region  \\\n",
       "0                                0                                 1   \n",
       "\n",
       "   neighbourhood_group_North-East Region  neighbourhood_group_West Region  \\\n",
       "0                                      0                                0   \n",
       "\n",
       "   room_type_Private room  room_type_Shared room  last_review_day  \\\n",
       "0                       1                      0               21   \n",
       "\n",
       "   last_review_month  last_review_year  \n",
       "0                 10              2013  "
      ]
     },
     "execution_count": 125,
     "metadata": {},
     "output_type": "execute_result"
    }
   ],
   "source": [
    "df3.head(1)"
   ]
  },
  {
   "cell_type": "code",
   "execution_count": 126,
   "id": "6a53c4b2",
   "metadata": {},
   "outputs": [],
   "source": [
    "#Import important libraries for training,preprocessing and evaluation\n",
    "from sklearn.model_selection import train_test_split\n",
    "\n",
    "from sklearn.preprocessing import StandardScaler "
   ]
  },
  {
   "cell_type": "code",
   "execution_count": null,
   "id": "70ea6160",
   "metadata": {},
   "outputs": [],
   "source": []
  },
  {
   "cell_type": "code",
   "execution_count": 127,
   "id": "6641a0aa",
   "metadata": {},
   "outputs": [],
   "source": [
    "\n",
    "scaler = StandardScaler() #prepare the scaler\n",
    "X = df3.drop('price', axis=1) #assign the all features to X variable.\n",
    "#X = scaler.fit_transform(X) #notice we drop away the target before applying scaling. Do not scale the target.\n",
    "y = df3['price'] #assign the target to y variable\n"
   ]
  },
  {
   "cell_type": "code",
   "execution_count": 128,
   "id": "973b341f",
   "metadata": {},
   "outputs": [
    {
     "data": {
      "text/html": [
       "<div>\n",
       "<style scoped>\n",
       "    .dataframe tbody tr th:only-of-type {\n",
       "        vertical-align: middle;\n",
       "    }\n",
       "\n",
       "    .dataframe tbody tr th {\n",
       "        vertical-align: top;\n",
       "    }\n",
       "\n",
       "    .dataframe thead th {\n",
       "        text-align: right;\n",
       "    }\n",
       "</style>\n",
       "<table border=\"1\" class=\"dataframe\">\n",
       "  <thead>\n",
       "    <tr style=\"text-align: right;\">\n",
       "      <th></th>\n",
       "      <th>host_id</th>\n",
       "      <th>latitude</th>\n",
       "      <th>longitude</th>\n",
       "      <th>minimum_nights</th>\n",
       "      <th>number_of_reviews</th>\n",
       "      <th>reviews_per_month</th>\n",
       "      <th>calculated_host_listings_count</th>\n",
       "      <th>availability_365</th>\n",
       "      <th>neighbourhood_group_East Region</th>\n",
       "      <th>neighbourhood_group_North Region</th>\n",
       "      <th>neighbourhood_group_North-East Region</th>\n",
       "      <th>neighbourhood_group_West Region</th>\n",
       "      <th>room_type_Private room</th>\n",
       "      <th>room_type_Shared room</th>\n",
       "      <th>last_review_day</th>\n",
       "      <th>last_review_month</th>\n",
       "      <th>last_review_year</th>\n",
       "    </tr>\n",
       "  </thead>\n",
       "  <tbody>\n",
       "    <tr>\n",
       "      <th>0</th>\n",
       "      <td>266763</td>\n",
       "      <td>1.44255</td>\n",
       "      <td>103.79580</td>\n",
       "      <td>180</td>\n",
       "      <td>1</td>\n",
       "      <td>0.01</td>\n",
       "      <td>2</td>\n",
       "      <td>365</td>\n",
       "      <td>0</td>\n",
       "      <td>1</td>\n",
       "      <td>0</td>\n",
       "      <td>0</td>\n",
       "      <td>1</td>\n",
       "      <td>0</td>\n",
       "      <td>21</td>\n",
       "      <td>10</td>\n",
       "      <td>2013</td>\n",
       "    </tr>\n",
       "    <tr>\n",
       "      <th>1</th>\n",
       "      <td>227796</td>\n",
       "      <td>1.33235</td>\n",
       "      <td>103.78521</td>\n",
       "      <td>90</td>\n",
       "      <td>18</td>\n",
       "      <td>0.28</td>\n",
       "      <td>1</td>\n",
       "      <td>365</td>\n",
       "      <td>0</td>\n",
       "      <td>0</td>\n",
       "      <td>0</td>\n",
       "      <td>0</td>\n",
       "      <td>1</td>\n",
       "      <td>0</td>\n",
       "      <td>26</td>\n",
       "      <td>12</td>\n",
       "      <td>2014</td>\n",
       "    </tr>\n",
       "    <tr>\n",
       "      <th>2</th>\n",
       "      <td>266763</td>\n",
       "      <td>1.44246</td>\n",
       "      <td>103.79667</td>\n",
       "      <td>6</td>\n",
       "      <td>20</td>\n",
       "      <td>0.20</td>\n",
       "      <td>2</td>\n",
       "      <td>365</td>\n",
       "      <td>0</td>\n",
       "      <td>1</td>\n",
       "      <td>0</td>\n",
       "      <td>0</td>\n",
       "      <td>1</td>\n",
       "      <td>0</td>\n",
       "      <td>1</td>\n",
       "      <td>10</td>\n",
       "      <td>2015</td>\n",
       "    </tr>\n",
       "    <tr>\n",
       "      <th>3</th>\n",
       "      <td>367042</td>\n",
       "      <td>1.34541</td>\n",
       "      <td>103.95712</td>\n",
       "      <td>1</td>\n",
       "      <td>14</td>\n",
       "      <td>0.15</td>\n",
       "      <td>9</td>\n",
       "      <td>353</td>\n",
       "      <td>1</td>\n",
       "      <td>0</td>\n",
       "      <td>0</td>\n",
       "      <td>0</td>\n",
       "      <td>1</td>\n",
       "      <td>0</td>\n",
       "      <td>11</td>\n",
       "      <td>8</td>\n",
       "      <td>2019</td>\n",
       "    </tr>\n",
       "    <tr>\n",
       "      <th>4</th>\n",
       "      <td>367042</td>\n",
       "      <td>1.34567</td>\n",
       "      <td>103.95963</td>\n",
       "      <td>1</td>\n",
       "      <td>22</td>\n",
       "      <td>0.22</td>\n",
       "      <td>9</td>\n",
       "      <td>355</td>\n",
       "      <td>1</td>\n",
       "      <td>0</td>\n",
       "      <td>0</td>\n",
       "      <td>0</td>\n",
       "      <td>1</td>\n",
       "      <td>0</td>\n",
       "      <td>28</td>\n",
       "      <td>7</td>\n",
       "      <td>2019</td>\n",
       "    </tr>\n",
       "  </tbody>\n",
       "</table>\n",
       "</div>"
      ],
      "text/plain": [
       "   host_id  latitude  longitude  minimum_nights  number_of_reviews  \\\n",
       "0   266763   1.44255  103.79580             180                  1   \n",
       "1   227796   1.33235  103.78521              90                 18   \n",
       "2   266763   1.44246  103.79667               6                 20   \n",
       "3   367042   1.34541  103.95712               1                 14   \n",
       "4   367042   1.34567  103.95963               1                 22   \n",
       "\n",
       "   reviews_per_month  calculated_host_listings_count  availability_365  \\\n",
       "0               0.01                               2               365   \n",
       "1               0.28                               1               365   \n",
       "2               0.20                               2               365   \n",
       "3               0.15                               9               353   \n",
       "4               0.22                               9               355   \n",
       "\n",
       "   neighbourhood_group_East Region  neighbourhood_group_North Region  \\\n",
       "0                                0                                 1   \n",
       "1                                0                                 0   \n",
       "2                                0                                 1   \n",
       "3                                1                                 0   \n",
       "4                                1                                 0   \n",
       "\n",
       "   neighbourhood_group_North-East Region  neighbourhood_group_West Region  \\\n",
       "0                                      0                                0   \n",
       "1                                      0                                0   \n",
       "2                                      0                                0   \n",
       "3                                      0                                0   \n",
       "4                                      0                                0   \n",
       "\n",
       "   room_type_Private room  room_type_Shared room  last_review_day  \\\n",
       "0                       1                      0               21   \n",
       "1                       1                      0               26   \n",
       "2                       1                      0                1   \n",
       "3                       1                      0               11   \n",
       "4                       1                      0               28   \n",
       "\n",
       "   last_review_month  last_review_year  \n",
       "0                 10              2013  \n",
       "1                 12              2014  \n",
       "2                 10              2015  \n",
       "3                  8              2019  \n",
       "4                  7              2019  "
      ]
     },
     "execution_count": 128,
     "metadata": {},
     "output_type": "execute_result"
    }
   ],
   "source": [
    "X.head()"
   ]
  },
  {
   "cell_type": "markdown",
   "id": "6540755c",
   "metadata": {},
   "source": [
    "### Feature  Selection"
   ]
  },
  {
   "cell_type": "code",
   "execution_count": 130,
   "id": "d4796992",
   "metadata": {},
   "outputs": [],
   "source": [
    "\n",
    "from sklearn.feature_selection import mutual_info_classif"
   ]
  },
  {
   "cell_type": "code",
   "execution_count": 131,
   "id": "659da49c",
   "metadata": {},
   "outputs": [
    {
     "data": {
      "text/plain": [
       "array([0.7373206 , 0.34748832, 0.39955124, 0.2487621 , 0.03585317,\n",
       "       0.06400417, 0.6445525 , 0.24506764, 0.00682754, 0.0113203 ,\n",
       "       0.01982436, 0.02874669, 0.26600696, 0.08021008, 0.05769551,\n",
       "       0.09478886, 0.10849881])"
      ]
     },
     "execution_count": 131,
     "metadata": {},
     "output_type": "execute_result"
    }
   ],
   "source": [
    "mutual_info_classif(X,y)"
   ]
  },
  {
   "cell_type": "code",
   "execution_count": 132,
   "id": "54220dbc",
   "metadata": {},
   "outputs": [],
   "source": [
    "imp=pd.DataFrame(mutual_info_classif(X,y),index=X.columns)"
   ]
  },
  {
   "cell_type": "code",
   "execution_count": 133,
   "id": "21055819",
   "metadata": {},
   "outputs": [
    {
     "data": {
      "text/html": [
       "<div>\n",
       "<style scoped>\n",
       "    .dataframe tbody tr th:only-of-type {\n",
       "        vertical-align: middle;\n",
       "    }\n",
       "\n",
       "    .dataframe tbody tr th {\n",
       "        vertical-align: top;\n",
       "    }\n",
       "\n",
       "    .dataframe thead th {\n",
       "        text-align: right;\n",
       "    }\n",
       "</style>\n",
       "<table border=\"1\" class=\"dataframe\">\n",
       "  <thead>\n",
       "    <tr style=\"text-align: right;\">\n",
       "      <th></th>\n",
       "      <th>0</th>\n",
       "    </tr>\n",
       "  </thead>\n",
       "  <tbody>\n",
       "    <tr>\n",
       "      <th>host_id</th>\n",
       "      <td>0.731834</td>\n",
       "    </tr>\n",
       "    <tr>\n",
       "      <th>latitude</th>\n",
       "      <td>0.348344</td>\n",
       "    </tr>\n",
       "    <tr>\n",
       "      <th>longitude</th>\n",
       "      <td>0.399572</td>\n",
       "    </tr>\n",
       "    <tr>\n",
       "      <th>minimum_nights</th>\n",
       "      <td>0.252644</td>\n",
       "    </tr>\n",
       "    <tr>\n",
       "      <th>number_of_reviews</th>\n",
       "      <td>0.044664</td>\n",
       "    </tr>\n",
       "    <tr>\n",
       "      <th>reviews_per_month</th>\n",
       "      <td>0.056623</td>\n",
       "    </tr>\n",
       "    <tr>\n",
       "      <th>calculated_host_listings_count</th>\n",
       "      <td>0.638282</td>\n",
       "    </tr>\n",
       "    <tr>\n",
       "      <th>availability_365</th>\n",
       "      <td>0.232370</td>\n",
       "    </tr>\n",
       "    <tr>\n",
       "      <th>neighbourhood_group_East Region</th>\n",
       "      <td>0.021356</td>\n",
       "    </tr>\n",
       "    <tr>\n",
       "      <th>neighbourhood_group_North Region</th>\n",
       "      <td>0.003143</td>\n",
       "    </tr>\n",
       "    <tr>\n",
       "      <th>neighbourhood_group_North-East Region</th>\n",
       "      <td>0.014562</td>\n",
       "    </tr>\n",
       "    <tr>\n",
       "      <th>neighbourhood_group_West Region</th>\n",
       "      <td>0.033690</td>\n",
       "    </tr>\n",
       "    <tr>\n",
       "      <th>room_type_Private room</th>\n",
       "      <td>0.284524</td>\n",
       "    </tr>\n",
       "    <tr>\n",
       "      <th>room_type_Shared room</th>\n",
       "      <td>0.078342</td>\n",
       "    </tr>\n",
       "    <tr>\n",
       "      <th>last_review_day</th>\n",
       "      <td>0.047600</td>\n",
       "    </tr>\n",
       "    <tr>\n",
       "      <th>last_review_month</th>\n",
       "      <td>0.088890</td>\n",
       "    </tr>\n",
       "    <tr>\n",
       "      <th>last_review_year</th>\n",
       "      <td>0.104251</td>\n",
       "    </tr>\n",
       "  </tbody>\n",
       "</table>\n",
       "</div>"
      ],
      "text/plain": [
       "                                              0\n",
       "host_id                                0.731834\n",
       "latitude                               0.348344\n",
       "longitude                              0.399572\n",
       "minimum_nights                         0.252644\n",
       "number_of_reviews                      0.044664\n",
       "reviews_per_month                      0.056623\n",
       "calculated_host_listings_count         0.638282\n",
       "availability_365                       0.232370\n",
       "neighbourhood_group_East Region        0.021356\n",
       "neighbourhood_group_North Region       0.003143\n",
       "neighbourhood_group_North-East Region  0.014562\n",
       "neighbourhood_group_West Region        0.033690\n",
       "room_type_Private room                 0.284524\n",
       "room_type_Shared room                  0.078342\n",
       "last_review_day                        0.047600\n",
       "last_review_month                      0.088890\n",
       "last_review_year                       0.104251"
      ]
     },
     "execution_count": 133,
     "metadata": {},
     "output_type": "execute_result"
    }
   ],
   "source": [
    "imp"
   ]
  },
  {
   "cell_type": "code",
   "execution_count": 134,
   "id": "8068baa8",
   "metadata": {},
   "outputs": [],
   "source": [
    "imp.columns=['Importance']"
   ]
  },
  {
   "cell_type": "code",
   "execution_count": 135,
   "id": "465c771e",
   "metadata": {
    "scrolled": true
   },
   "outputs": [
    {
     "data": {
      "text/html": [
       "<div>\n",
       "<style scoped>\n",
       "    .dataframe tbody tr th:only-of-type {\n",
       "        vertical-align: middle;\n",
       "    }\n",
       "\n",
       "    .dataframe tbody tr th {\n",
       "        vertical-align: top;\n",
       "    }\n",
       "\n",
       "    .dataframe thead th {\n",
       "        text-align: right;\n",
       "    }\n",
       "</style>\n",
       "<table border=\"1\" class=\"dataframe\">\n",
       "  <thead>\n",
       "    <tr style=\"text-align: right;\">\n",
       "      <th></th>\n",
       "      <th>Importance</th>\n",
       "    </tr>\n",
       "  </thead>\n",
       "  <tbody>\n",
       "    <tr>\n",
       "      <th>host_id</th>\n",
       "      <td>0.731834</td>\n",
       "    </tr>\n",
       "    <tr>\n",
       "      <th>calculated_host_listings_count</th>\n",
       "      <td>0.638282</td>\n",
       "    </tr>\n",
       "    <tr>\n",
       "      <th>longitude</th>\n",
       "      <td>0.399572</td>\n",
       "    </tr>\n",
       "    <tr>\n",
       "      <th>latitude</th>\n",
       "      <td>0.348344</td>\n",
       "    </tr>\n",
       "    <tr>\n",
       "      <th>room_type_Private room</th>\n",
       "      <td>0.284524</td>\n",
       "    </tr>\n",
       "    <tr>\n",
       "      <th>minimum_nights</th>\n",
       "      <td>0.252644</td>\n",
       "    </tr>\n",
       "    <tr>\n",
       "      <th>availability_365</th>\n",
       "      <td>0.232370</td>\n",
       "    </tr>\n",
       "    <tr>\n",
       "      <th>last_review_year</th>\n",
       "      <td>0.104251</td>\n",
       "    </tr>\n",
       "    <tr>\n",
       "      <th>last_review_month</th>\n",
       "      <td>0.088890</td>\n",
       "    </tr>\n",
       "    <tr>\n",
       "      <th>room_type_Shared room</th>\n",
       "      <td>0.078342</td>\n",
       "    </tr>\n",
       "    <tr>\n",
       "      <th>reviews_per_month</th>\n",
       "      <td>0.056623</td>\n",
       "    </tr>\n",
       "    <tr>\n",
       "      <th>last_review_day</th>\n",
       "      <td>0.047600</td>\n",
       "    </tr>\n",
       "    <tr>\n",
       "      <th>number_of_reviews</th>\n",
       "      <td>0.044664</td>\n",
       "    </tr>\n",
       "    <tr>\n",
       "      <th>neighbourhood_group_West Region</th>\n",
       "      <td>0.033690</td>\n",
       "    </tr>\n",
       "    <tr>\n",
       "      <th>neighbourhood_group_East Region</th>\n",
       "      <td>0.021356</td>\n",
       "    </tr>\n",
       "    <tr>\n",
       "      <th>neighbourhood_group_North-East Region</th>\n",
       "      <td>0.014562</td>\n",
       "    </tr>\n",
       "    <tr>\n",
       "      <th>neighbourhood_group_North Region</th>\n",
       "      <td>0.003143</td>\n",
       "    </tr>\n",
       "  </tbody>\n",
       "</table>\n",
       "</div>"
      ],
      "text/plain": [
       "                                       Importance\n",
       "host_id                                  0.731834\n",
       "calculated_host_listings_count           0.638282\n",
       "longitude                                0.399572\n",
       "latitude                                 0.348344\n",
       "room_type_Private room                   0.284524\n",
       "minimum_nights                           0.252644\n",
       "availability_365                         0.232370\n",
       "last_review_year                         0.104251\n",
       "last_review_month                        0.088890\n",
       "room_type_Shared room                    0.078342\n",
       "reviews_per_month                        0.056623\n",
       "last_review_day                          0.047600\n",
       "number_of_reviews                        0.044664\n",
       "neighbourhood_group_West Region          0.033690\n",
       "neighbourhood_group_East Region          0.021356\n",
       "neighbourhood_group_North-East Region    0.014562\n",
       "neighbourhood_group_North Region         0.003143"
      ]
     },
     "execution_count": 135,
     "metadata": {},
     "output_type": "execute_result"
    }
   ],
   "source": [
    "#sorting features by importance\n",
    "imp.sort_values(by='Importance',ascending=False)"
   ]
  },
  {
   "cell_type": "code",
   "execution_count": null,
   "id": "00e1ece6",
   "metadata": {},
   "outputs": [],
   "source": []
  },
  {
   "cell_type": "code",
   "execution_count": null,
   "id": "c6b7e383",
   "metadata": {
    "scrolled": false
   },
   "outputs": [],
   "source": [
    "#selecing the top features\n",
    "from sklearn.feature_selection import mutual_info_classif\n",
    "\n",
    "mutual_info_classif(X,y)\n",
    "\n",
    "imp=pd.DataFrame(mutual_info_classif(X,y),index=X.columns)\n",
    "\n",
    "imp\n",
    "\n",
    "imp.columns=['Importance']\n",
    "\n",
    "imp[imp['Importance']>=0.09].sort_values(by='Importance',ascending=False)"
   ]
  },
  {
   "cell_type": "code",
   "execution_count": null,
   "id": "592f3392",
   "metadata": {},
   "outputs": [],
   "source": [
    "imp.sort_values(by='Importance',ascending=False)"
   ]
  },
  {
   "cell_type": "code",
   "execution_count": null,
   "id": "48028d08",
   "metadata": {},
   "outputs": [],
   "source": [
    "#dropping the unimportant features\n",
    "#X=X[['host_id','calculated_host_listings_count','Entire home/apt','longitude','latitude','minimum_nights','availability_365','Central Region','last_review_year']]\n",
    "#X.head()"
   ]
  },
  {
   "cell_type": "code",
   "execution_count": 129,
   "id": "c6996487",
   "metadata": {},
   "outputs": [
    {
     "data": {
      "text/plain": [
       "(7465, 17)"
      ]
     },
     "execution_count": 129,
     "metadata": {},
     "output_type": "execute_result"
    }
   ],
   "source": [
    "X.shape"
   ]
  },
  {
   "cell_type": "code",
   "execution_count": 136,
   "id": "62999e45",
   "metadata": {},
   "outputs": [],
   "source": [
    "X.drop('last_review_day',axis=1,inplace=True)"
   ]
  },
  {
   "cell_type": "code",
   "execution_count": null,
   "id": "d6d80053",
   "metadata": {},
   "outputs": [],
   "source": []
  },
  {
   "cell_type": "code",
   "execution_count": 137,
   "id": "6e85d351",
   "metadata": {},
   "outputs": [
    {
     "data": {
      "text/plain": [
       "StandardScaler()"
      ]
     },
     "execution_count": 137,
     "metadata": {},
     "output_type": "execute_result"
    }
   ],
   "source": [
    "#fitting our scaler\n",
    "scaler.fit(X)  "
   ]
  },
  {
   "cell_type": "code",
   "execution_count": null,
   "id": "cda1f1fd",
   "metadata": {},
   "outputs": [],
   "source": [
    "#scaler.fit_transform(x)"
   ]
  },
  {
   "cell_type": "code",
   "execution_count": 138,
   "id": "b1aba9e6",
   "metadata": {},
   "outputs": [],
   "source": [
    "#scaling our data\n",
    "X = scaler.transform(X)"
   ]
  },
  {
   "cell_type": "code",
   "execution_count": 139,
   "id": "05bf5e06",
   "metadata": {},
   "outputs": [
    {
     "data": {
      "text/plain": [
       "array([[-1.09275123,  4.17139226, -1.20172933, ..., -0.23382999,\n",
       "         1.55262719, -1.02772424],\n",
       "       [-1.09322673,  0.57551096, -1.44115617, ..., -0.23382999,\n",
       "         2.14302333, -0.7135957 ],\n",
       "       [-1.09275123,  4.16845551, -1.1820597 , ..., -0.23382999,\n",
       "         1.55262719, -0.39946715],\n",
       "       ...,\n",
       "       [ 2.3384184 , -0.06045752,  0.24884914, ..., -0.23382999,\n",
       "        -1.10415547, -1.34185279],\n",
       "       [ 1.87943483, -0.62920717, -0.24741329, ..., -0.23382999,\n",
       "        -1.10415547, -1.34185279],\n",
       "       [-0.74470955, -0.58711382, -0.35503102, ..., -0.23382999,\n",
       "        -1.10415547, -1.34185279]])"
      ]
     },
     "execution_count": 139,
     "metadata": {},
     "output_type": "execute_result"
    }
   ],
   "source": [
    "X"
   ]
  },
  {
   "cell_type": "code",
   "execution_count": 141,
   "id": "4f6bb230",
   "metadata": {},
   "outputs": [],
   "source": [
    "#splitting our data into the testing and training set\n",
    "X_train, X_test, y_train, y_test = train_test_split(X, y, test_size=0.2,\n",
    "                                                    random_state=123) #To do your data splitting"
   ]
  },
  {
   "cell_type": "markdown",
   "id": "60ed607c",
   "metadata": {},
   "source": [
    "## Model Evaluation"
   ]
  },
  {
   "cell_type": "markdown",
   "id": "c37f4338",
   "metadata": {},
   "source": [
    "**LINEAR REGRESSION**"
   ]
  },
  {
   "cell_type": "code",
   "execution_count": 143,
   "id": "2583742f",
   "metadata": {},
   "outputs": [
    {
     "data": {
      "text/plain": [
       "LinearRegression()"
      ]
     },
     "execution_count": 143,
     "metadata": {},
     "output_type": "execute_result"
    }
   ],
   "source": [
    "# 1. Import the estimator object (model)\n",
    "from sklearn.linear_model import LinearRegression\n",
    "# 2. Create an instance of the estimator\n",
    "linear_regression = LinearRegression()\n",
    "# 3. Use the trainning data to train the estimator\n",
    "linear_regression.fit(X_train, y_train)"
   ]
  },
  {
   "cell_type": "code",
   "execution_count": 142,
   "id": "ce3cbfb4",
   "metadata": {},
   "outputs": [],
   "source": [
    "from sklearn.metrics import mean_squared_error\n",
    "from sklearn.metrics import mean_absolute_error\n",
    "from sklearn.metrics import r2_score"
   ]
  },
  {
   "cell_type": "code",
   "execution_count": 147,
   "id": "d65422c0",
   "metadata": {
    "scrolled": true
   },
   "outputs": [
    {
     "name": "stdout",
     "output_type": "stream",
     "text": [
      "Train r2 score:  0.45953063836937924\n",
      "Test r2 score:  0.44814565456262756\n",
      "train_mae:  45.292479362795376\n",
      "test_mae:  46.44436312694302\n",
      "train_mse1:  3519.8620600017325\n",
      "test_mse1:  3631.6466872700207\n"
     ]
    }
   ],
   "source": [
    "\n",
    "#Prediction and Model Evaluation (R-squared,MSE,RMSE,MAE)\n",
    "y_train_pred1 = linear_regression.predict(X_train) #Train (Already seen this)\n",
    "y_pred1 = linear_regression.predict(X_test) # Test(New)\n",
    "\n",
    "print('Train r2 score: ', r2_score(y_train,y_train_pred1))\n",
    "print('Test r2 score: ', r2_score(y_test, y_pred1))\n",
    "\n",
    "print('train_mae: ', mean_absolute_error(y_train,y_train_pred1))\n",
    "print('test_mae: ', mean_absolute_error(y_test, y_pred1))\n",
    "\n",
    "print('train_mse1: ', mean_squared_error(y_train,y_train_pred1))\n",
    "print('test_mse1: ', mean_squared_error(y_test,y_pred1 ))\n",
    "\n",
    "\n",
    "\n"
   ]
  },
  {
   "cell_type": "code",
   "execution_count": null,
   "id": "b13e04fe",
   "metadata": {},
   "outputs": [],
   "source": [
    "y_pred1"
   ]
  },
  {
   "cell_type": "code",
   "execution_count": null,
   "id": "a7a756a3",
   "metadata": {},
   "outputs": [],
   "source": [
    "y_test"
   ]
  },
  {
   "cell_type": "code",
   "execution_count": null,
   "id": "8a0f1c82",
   "metadata": {
    "scrolled": false
   },
   "outputs": [],
   "source": [
    "d=pd.DataFrame({'OLD':y_test, 'NEW':y_pred1})\n",
    "d"
   ]
  },
  {
   "cell_type": "code",
   "execution_count": 149,
   "id": "2f94cf1f",
   "metadata": {},
   "outputs": [
    {
     "data": {
      "image/png": "[encoded data removed]",
      "text/plain": [
       "<Figure size 576x360 with 1 Axes>"
      ]
     },
     "metadata": {},
     "output_type": "display_data"
    }
   ],
   "source": [
    "plt.subplots(figsize=(8,5))\n",
    "plt.scatter(y_pred1,y_test)\n",
    "plt.plot(np.unique(y_test), np.poly1d(np.polyfit(y_test, y_pred1, 1))(np.unique(y_test)),\n",
    "         c='r')\n",
    "plt.title('Predicted vs Actual')\n",
    "plt.xlabel('Predicted')\n",
    "plt.ylabel('Actual')\n",
    "plt.grid()\n",
    "plt.show()"
   ]
  },
  {
   "cell_type": "code",
   "execution_count": null,
   "id": "8570a135",
   "metadata": {},
   "outputs": [],
   "source": []
  },
  {
   "cell_type": "code",
   "execution_count": 158,
   "id": "da87b35a",
   "metadata": {},
   "outputs": [
    {
     "data": {
      "text/plain": [
       "KNeighborsRegressor(metric='euclidean', n_jobs=-1, n_neighbors=10,\n",
       "                    weights='distance')"
      ]
     },
     "execution_count": 158,
     "metadata": {},
     "output_type": "execute_result"
    }
   ],
   "source": [
    "# 1. Import the estimator object (model)\n",
    "from sklearn.neighbors import KNeighborsRegressor\n",
    "# 2. Create an instance of the estimator\n",
    "knn = KNeighborsRegressor(n_neighbors=10, weights='distance', metric='euclidean', n_jobs=-1)\n",
    "# 3. Use the trainning data to train the estimator\n",
    "knn.fit(X_train, y_train)"
   ]
  },
  {
   "cell_type": "code",
   "execution_count": 159,
   "id": "d9ca078d",
   "metadata": {
    "scrolled": true
   },
   "outputs": [
    {
     "name": "stdout",
     "output_type": "stream",
     "text": [
      "Train r2 score:  1.0\n",
      "Test r2 score:  0.5877419682213876\n",
      "train_mae:  0.0\n",
      "test_mae:  37.13421189965001\n",
      "train_mse1:  0.0\n",
      "test_mse1:  2712.990352957481\n"
     ]
    }
   ],
   "source": [
    "#Prediction and Model Evaluation\n",
    "y_train_pred2 = knn.predict(X_train) #Train (Already seen this)\n",
    "y_pred2 = knn.predict(X_test) # Test(New)\n",
    "\n",
    "print('Train r2 score: ', r2_score(y_train,y_train_pred2))\n",
    "print('Test r2 score: ', r2_score(y_test, y_pred2))\n",
    "\n",
    "print('train_mae: ', mean_absolute_error(y_train,y_train_pred2))\n",
    "print('test_mae: ', mean_absolute_error(y_test, y_pred2))\n",
    "\n",
    "print('train_mse1: ', mean_squared_error(y_train,y_train_pred2))\n",
    "print('test_mse1: ', mean_squared_error(y_test,y_pred2 ))\n",
    "\n"
   ]
  },
  {
   "cell_type": "code",
   "execution_count": null,
   "id": "fc435fb5",
   "metadata": {},
   "outputs": [],
   "source": [
    "pd.DataFrame({'OLD':y_test, 'NEW':y_pred2})"
   ]
  },
  {
   "cell_type": "code",
   "execution_count": null,
   "id": "06bf31a6",
   "metadata": {},
   "outputs": [],
   "source": [
    "plt.subplots(figsize=(8,5))\n",
    "plt.scatter(y_test,y_pred2)\n",
    "plt.plot(np.unique(y_test), np.poly1d(np.polyfit(y_test, y_pred2, 1))(np.unique(y_test)),c='r')\n",
    "plt.title('Predicted vs Actual')\n",
    "plt.xlabel('Predicted')\n",
    "plt.ylabel('Actual')\n",
    "plt.grid()\n",
    "plt.show()"
   ]
  },
  {
   "cell_type": "code",
   "execution_count": null,
   "id": "137d46d7",
   "metadata": {},
   "outputs": [],
   "source": []
  },
  {
   "cell_type": "markdown",
   "id": "d18cad79",
   "metadata": {},
   "source": [
    "**DECISION TREE**"
   ]
  },
  {
   "cell_type": "code",
   "execution_count": 156,
   "id": "b5f409d2",
   "metadata": {},
   "outputs": [
    {
     "data": {
      "text/plain": [
       "DecisionTreeRegressor()"
      ]
     },
     "execution_count": 156,
     "metadata": {},
     "output_type": "execute_result"
    }
   ],
   "source": [
    "# 1. Import the estimator object (model)\n",
    "from sklearn.tree import DecisionTreeRegressor\n",
    "# 2. Create an instance of the estimator\n",
    "dtree = DecisionTreeRegressor()\n",
    "# 3. Use the trainning data to train the estimator\n",
    "dtree.fit(X_train, y_train)"
   ]
  },
  {
   "cell_type": "code",
   "execution_count": 157,
   "id": "66c082db",
   "metadata": {
    "scrolled": true
   },
   "outputs": [
    {
     "name": "stdout",
     "output_type": "stream",
     "text": [
      "Train r2 score:  1.0\n",
      "Test r2 score:  0.36877486035248186\n",
      "train_mae:  0.0\n",
      "test_mae:  41.118553248492965\n",
      "train_mse1:  0.0\n",
      "test_mse1:  4153.970529135968\n"
     ]
    }
   ],
   "source": [
    "y_train_pred3 = dtree.predict(X_train)\n",
    "y_pred3 = dtree.predict(X_test)\n",
    "\n",
    "print('Train r2 score: ', r2_score(y_train,y_train_pred3))\n",
    "print('Test r2 score: ', r2_score(y_test, y_pred3))\n",
    "\n",
    "print('train_mae: ', mean_absolute_error(y_train,y_train_pred3))\n",
    "print('test_mae: ', mean_absolute_error(y_test, y_pred3))\n",
    "\n",
    "print('train_mse1: ', mean_squared_error(y_train,y_train_pred3))\n",
    "print('test_mse1: ', mean_squared_error(y_test,y_pred3 ))\n"
   ]
  },
  {
   "cell_type": "code",
   "execution_count": null,
   "id": "caa32880",
   "metadata": {},
   "outputs": [],
   "source": [
    "pd.DataFrame({'OLD':y_test, 'NEW':y_pred3})"
   ]
  },
  {
   "cell_type": "code",
   "execution_count": null,
   "id": "44e0998b",
   "metadata": {},
   "outputs": [],
   "source": [
    "plt.subplots(figsize=(8,5))\n",
    "plt.scatter(y_test,y_pred3)\n",
    "plt.title('Predicted vs Actual')\n",
    "plt.xlabel('Predicted')\n",
    "plt.ylabel('Actual')\n",
    "plt.grid()\n",
    "plt.show()"
   ]
  },
  {
   "cell_type": "code",
   "execution_count": null,
   "id": "5507b103",
   "metadata": {},
   "outputs": [],
   "source": []
  },
  {
   "cell_type": "markdown",
   "id": "f0be4675",
   "metadata": {},
   "source": [
    "**D. RANDOM FOREST MODEL**"
   ]
  },
  {
   "cell_type": "code",
   "execution_count": 164,
   "id": "bb1b268f",
   "metadata": {},
   "outputs": [
    {
     "data": {
      "text/plain": [
       "RandomForestRegressor(n_estimators=9)"
      ]
     },
     "execution_count": 164,
     "metadata": {},
     "output_type": "execute_result"
    }
   ],
   "source": [
    "from sklearn.ensemble import RandomForestRegressor\n",
    "# 1. Import the estimator object (model)\n",
    "from sklearn.tree import DecisionTreeRegressor\n",
    "# 2. Create an instance of the estimator\n",
    "rf = RandomForestRegressor(n_estimators=9) #Notice here alsn_estimators=ng here \"random forest regressor\" not \"random forest classifier\"\n",
    "# 3. Use the trainning data to train the estimator\n",
    "rf.fit(X_train, y_train)"
   ]
  },
  {
   "cell_type": "code",
   "execution_count": 165,
   "id": "66d3c566",
   "metadata": {},
   "outputs": [
    {
     "name": "stdout",
     "output_type": "stream",
     "text": [
      "Train r2 score:  0.9227034691781941\n",
      "Test r2 score:  0.6536096667390785\n",
      "Train RMSE: 20.34\n",
      "Test RMSE: 47.74\n",
      "Train MAE: 45.29\n",
      "Test MAE: 46.44\n"
     ]
    }
   ],
   "source": [
    "y_train_pred4 = rf.predict(X_train)\n",
    "y_pred4 = rf.predict(X_test)\n",
    "\n",
    "print('Train r2 score: ', r2_score(y_train_pred4, y_train))\n",
    "print('Test r2 score: ', r2_score(y_test, y_pred4))\n",
    "train_mse4 = mean_squared_error(y_train_pred4, y_train)\n",
    "test_mse4 = mean_squared_error(y_pred4, y_test)\n",
    "train_rmse4 = np.sqrt(train_mse4)\n",
    "test_rmse4 = np.sqrt(test_mse4)\n",
    "\n",
    "\n",
    "\n",
    "print('Train RMSE: %.2f' % train_rmse4)\n",
    "print('Test RMSE: %.2f' % test_rmse4)\n",
    "print('Train MAE: %.2f' % train_mae)\n",
    "print('Test MAE: %.2f' % test_mae)"
   ]
  },
  {
   "cell_type": "code",
   "execution_count": null,
   "id": "bea2a25f",
   "metadata": {},
   "outputs": [],
   "source": [
    "plt.subplots(figsize=(8,5))\n",
    "plt.scatter(y_test,y_pred4)\n",
    "plt.plot(np.unique(y_test), np.poly1d(np.polyfit(y_test, y_pred4, 1))(np.unique(y_test)),c='r')\n",
    "plt.title('Predicted vs Actual')\n",
    "plt.xlabel('Predicted')\n",
    "plt.ylabel('Actual')\n",
    "plt.grid()\n",
    "plt.show()"
   ]
  },
  {
   "cell_type": "code",
   "execution_count": null,
   "id": "85bf56dd",
   "metadata": {},
   "outputs": [],
   "source": [
    "pd.DataFrame({'OLD':y_test, 'NEW':y_pred4})"
   ]
  },
  {
   "cell_type": "code",
   "execution_count": null,
   "id": "9edbbc4c",
   "metadata": {},
   "outputs": [],
   "source": []
  },
  {
   "cell_type": "markdown",
   "id": "30f71817",
   "metadata": {},
   "source": [
    "# E. XGBOOST "
   ]
  },
  {
   "cell_type": "code",
   "execution_count": 174,
   "id": "54a4005d",
   "metadata": {
    "scrolled": true
   },
   "outputs": [
    {
     "data": {
      "text/plain": [
       "XGBRegressor(base_score=0.5, booster='gbtree', colsample_bylevel=1,\n",
       "             colsample_bynode=1, colsample_bytree=1, enable_categorical=False,\n",
       "             gamma=0, gpu_id=-1, importance_type=None,\n",
       "             interaction_constraints='', learning_rate=0.300000012,\n",
       "             max_delta_step=0, max_depth=6, min_child_weight=1, missing=nan,\n",
       "             monotone_constraints='()', n_estimators=100, n_jobs=8,\n",
       "             num_parallel_tree=1, predictor='auto', random_state=0, reg_alpha=0,\n",
       "             reg_lambda=1, scale_pos_weight=1, subsample=1, tree_method='exact',\n",
       "             validate_parameters=1, verbosity=None)"
      ]
     },
     "execution_count": 174,
     "metadata": {},
     "output_type": "execute_result"
    }
   ],
   "source": [
    "from xgboost import XGBRegressor\n",
    "xgb_model1 = XGBRegressor()\n",
    "xgb_model1.fit(X_train, y_train, verbose=False) "
   ]
  },
  {
   "cell_type": "code",
   "execution_count": null,
   "id": "bb18b620",
   "metadata": {},
   "outputs": [],
   "source": []
  },
  {
   "cell_type": "code",
   "execution_count": 175,
   "id": "0febd4ee",
   "metadata": {
    "scrolled": true
   },
   "outputs": [
    {
     "name": "stdout",
     "output_type": "stream",
     "text": [
      "Train r2 score:  0.9136712383708426\n",
      "Test r2 score:  0.6733236373911916\n",
      "train_mae:  16.698304082751672\n",
      "test_mae:  32.96756953196644\n",
      "train_mse1:  562.2248999066828\n",
      "test_mse1:  2149.7939445188895\n"
     ]
    }
   ],
   "source": [
    "y_train_pred5 = xgb_model1.predict(X_train)\n",
    "y_pred5 = xgb_model1.predict(X_test)\n",
    "\n",
    "print('Train r2 score: ', r2_score(y_train,y_train_pred5))\n",
    "print('Test r2 score: ', r2_score(y_test, y_pred5))\n",
    "\n",
    "print('train_mae: ', mean_absolute_error(y_train,y_train_pred5))\n",
    "print('test_mae: ', mean_absolute_error(y_test, y_pred5))\n",
    "\n",
    "print('train_mse1: ', mean_squared_error(y_train,y_train_pred5))\n",
    "print('test_mse1: ', mean_squared_error(y_test,y_pred5))"
   ]
  },
  {
   "cell_type": "code",
   "execution_count": null,
   "id": "8018f2cd",
   "metadata": {},
   "outputs": [],
   "source": [
    "pd.DataFrame({'OLD':y_test, 'NEW':y_pred5})"
   ]
  },
  {
   "cell_type": "code",
   "execution_count": 177,
   "id": "57b169b3",
   "metadata": {
    "scrolled": true
   },
   "outputs": [
    {
     "data": {
      "image/png": "[encoded data removed]",
      "text/plain": [
       "<Figure size 576x360 with 1 Axes>"
      ]
     },
     "metadata": {},
     "output_type": "display_data"
    }
   ],
   "source": [
    "plt.subplots(figsize=(8,5))\n",
    "plt.scatter(y_test,y_pred5)\n",
    "plt.plot(np.unique(y_test), np.poly1d(np.polyfit(y_test, y_pred5, 1))(np.unique(y_test)),c='r')\n",
    "plt.title('Predicted vs Actual')\n",
    "plt.xlabel('Predicted')\n",
    "plt.ylabel('Actual')\n",
    "plt.grid()\n",
    "plt.show()\n"
   ]
  },
  {
   "cell_type": "markdown",
   "id": "6d381180",
   "metadata": {},
   "source": [
    "# XGBoost Model Hyperparameter Tunning"
   ]
  },
  {
   "cell_type": "code",
   "execution_count": null,
   "id": "d2c995fc",
   "metadata": {},
   "outputs": [],
   "source": []
  },
  {
   "cell_type": "code",
   "execution_count": 178,
   "id": "36d9f251",
   "metadata": {},
   "outputs": [
    {
     "name": "stdout",
     "output_type": "stream",
     "text": [
      "[0]\tvalidation_0-rmse:115.10849\n",
      "[1]\tvalidation_0-rmse:89.64381\n",
      "[2]\tvalidation_0-rmse:73.09218\n",
      "[3]\tvalidation_0-rmse:63.46040\n",
      "[4]\tvalidation_0-rmse:57.54427\n",
      "[5]\tvalidation_0-rmse:54.47672\n",
      "[6]\tvalidation_0-rmse:52.15127\n",
      "[7]\tvalidation_0-rmse:50.91447\n",
      "[8]\tvalidation_0-rmse:50.13041\n",
      "[9]\tvalidation_0-rmse:49.24999\n",
      "[10]\tvalidation_0-rmse:48.96090\n",
      "[11]\tvalidation_0-rmse:48.70825\n",
      "[12]\tvalidation_0-rmse:48.35639\n",
      "[13]\tvalidation_0-rmse:48.42062\n",
      "[14]\tvalidation_0-rmse:48.29960\n",
      "[15]\tvalidation_0-rmse:48.10275\n",
      "[16]\tvalidation_0-rmse:48.07868\n",
      "[17]\tvalidation_0-rmse:47.88477\n",
      "[18]\tvalidation_0-rmse:47.83107\n",
      "[19]\tvalidation_0-rmse:47.83968\n",
      "[20]\tvalidation_0-rmse:47.81403\n",
      "[21]\tvalidation_0-rmse:47.80605\n",
      "[22]\tvalidation_0-rmse:47.76426\n",
      "[23]\tvalidation_0-rmse:47.70054\n",
      "[24]\tvalidation_0-rmse:47.62319\n",
      "[25]\tvalidation_0-rmse:47.57574\n",
      "[26]\tvalidation_0-rmse:47.53125\n",
      "[27]\tvalidation_0-rmse:47.53347\n",
      "[28]\tvalidation_0-rmse:47.40864\n",
      "[29]\tvalidation_0-rmse:47.41859\n",
      "[30]\tvalidation_0-rmse:47.38550\n",
      "[31]\tvalidation_0-rmse:47.36884\n",
      "[32]\tvalidation_0-rmse:47.22695\n",
      "[33]\tvalidation_0-rmse:47.19745\n",
      "[34]\tvalidation_0-rmse:47.21325\n",
      "[35]\tvalidation_0-rmse:47.17386\n",
      "[36]\tvalidation_0-rmse:47.20843\n",
      "[37]\tvalidation_0-rmse:47.18230\n",
      "[38]\tvalidation_0-rmse:47.14555\n",
      "[39]\tvalidation_0-rmse:47.04024\n",
      "[40]\tvalidation_0-rmse:46.91381\n",
      "[41]\tvalidation_0-rmse:46.84246\n",
      "[42]\tvalidation_0-rmse:46.84580\n",
      "[43]\tvalidation_0-rmse:46.86097\n",
      "[44]\tvalidation_0-rmse:46.88081\n",
      "[45]\tvalidation_0-rmse:46.79581\n",
      "[46]\tvalidation_0-rmse:46.79059\n",
      "[47]\tvalidation_0-rmse:46.75792\n",
      "[48]\tvalidation_0-rmse:46.67216\n",
      "[49]\tvalidation_0-rmse:46.60080\n",
      "[50]\tvalidation_0-rmse:46.58104\n",
      "[51]\tvalidation_0-rmse:46.51594\n",
      "[52]\tvalidation_0-rmse:46.55262\n",
      "[53]\tvalidation_0-rmse:46.56633\n",
      "[54]\tvalidation_0-rmse:46.55310\n",
      "[55]\tvalidation_0-rmse:46.55944\n",
      "Train r2 score:  0.8012784022570459\n",
      "Test r2 score:  0.671205566178106\n",
      "Train RMSE: 30.7961\n",
      "Test RMSE: 46.5159\n"
     ]
    }
   ],
   "source": [
    "xgb_model2 = XGBRegressor(n_estimators=1000)\n",
    "xgb_model2.fit(X_train, y_train, early_stopping_rounds=5, \n",
    "             eval_set=[(X_test, y_test)], verbose=True)\n",
    "y_train_pred6 = xgb_model2.predict(X_train)\n",
    "y_pred6 = xgb_model2.predict(X_test)\n",
    "\n",
    "print('Train r2 score: ', r2_score(y_train_pred6, y_train))\n",
    "print('Test r2 score: ', r2_score(y_test, y_pred6))\n",
    "train_mse6 = mean_squared_error(y_train_pred6, y_train)\n",
    "test_mse6 = mean_squared_error(y_pred6, y_test)\n",
    "train_rmse6 = np.sqrt(train_mse6)\n",
    "test_rmse6 = np.sqrt(test_mse6)\n",
    "print('Train RMSE: %.4f' % train_rmse6)\n",
    "print('Test RMSE: %.4f' % test_rmse6)"
   ]
  },
  {
   "cell_type": "code",
   "execution_count": null,
   "id": "5181aed3",
   "metadata": {},
   "outputs": [],
   "source": []
  },
  {
   "cell_type": "markdown",
   "id": "110c6b96",
   "metadata": {},
   "source": [
    "## Optimization"
   ]
  },
  {
   "cell_type": "markdown",
   "id": "6e754194",
   "metadata": {},
   "source": [
    "Model optimization is the problem of finding the set of inputs to a target objective function that result in the minimum or maximum of the evalution function.\n",
    "\n",
    "e.g optimizing means that we want our model to give us a higher r2 value or a lower MSE,MAE or RMSE value"
   ]
  },
  {
   "cell_type": "markdown",
   "id": "7f95d52e",
   "metadata": {},
   "source": [
    "**USING GRID SEARCH CV FOR OPTIMIZATION**"
   ]
  },
  {
   "cell_type": "code",
   "execution_count": 182,
   "id": "295570d7",
   "metadata": {},
   "outputs": [],
   "source": [
    "from sklearn.model_selection import GridSearchCV\n",
    "import warnings\n",
    "warnings.filterwarnings('ignore')"
   ]
  },
  {
   "cell_type": "code",
   "execution_count": 183,
   "id": "a6f76e56",
   "metadata": {},
   "outputs": [
    {
     "data": {
      "text/plain": [
       "dict_keys(['bootstrap', 'ccp_alpha', 'criterion', 'max_depth', 'max_features', 'max_leaf_nodes', 'max_samples', 'min_impurity_decrease', 'min_impurity_split', 'min_samples_leaf', 'min_samples_split', 'min_weight_fraction_leaf', 'n_estimators', 'n_jobs', 'oob_score', 'random_state', 'verbose', 'warm_start'])"
      ]
     },
     "execution_count": 183,
     "metadata": {},
     "output_type": "execute_result"
    }
   ],
   "source": [
    "#checking the parameters that can be optimized in the models\n",
    "rf.get_params().keys()"
   ]
  },
  {
   "cell_type": "code",
   "execution_count": null,
   "id": "519266e3",
   "metadata": {
    "scrolled": true
   },
   "outputs": [],
   "source": [
    "param_grid=({'n_estimators':[2,4,6,8],'n_jobs':[2,4,6,8],'max_depth':[2,10,100]},\n",
    "           {'n_estimators':[2,4,6,8],'max_depth':[2,10,100],'n_jobs':[2,4,6,8]})\n",
    "\n",
    "grid_search=GridSearchCV(rf,param_grid,cv=5,scoring='r2',return_train_score=True)\n",
    "\n",
    "grid_search=grid_search.fit(X_train,y_train)"
   ]
  },
  {
   "cell_type": "code",
   "execution_count": null,
   "id": "a9ea0214",
   "metadata": {},
   "outputs": [],
   "source": [
    "#To see the best parameter for our model\n",
    "grid_search.best_params_"
   ]
  },
  {
   "cell_type": "code",
   "execution_count": 194,
   "id": "c7de3873",
   "metadata": {},
   "outputs": [
    {
     "name": "stdout",
     "output_type": "stream",
     "text": [
      "Train r2 score:  0.958100991029342\n",
      "Test r2 score:  0.6890924960408067\n",
      "train_mae:  11.547580542531815\n",
      "test_mae:  31.506795043536503\n",
      "train_mse1:  272.8715862496651\n",
      "test_mse1:  2046.0221363409244\n"
     ]
    }
   ],
   "source": [
    "rf = RandomForestRegressor(max_depth= 200, n_estimators= 1000, n_jobs=4) #Notice here alsn_estimators=ng here \"random forest regressor\" not \"random forest classifier\"\n",
    "\n",
    "rf.fit(X_train, y_train)\n",
    "\n",
    "y_train_pred4a = rf.predict(X_train)\n",
    "y_pred4a = rf.predict(X_test)\n",
    "\n",
    "print('Train r2 score: ', r2_score(y_train,y_train_pred4a))\n",
    "print('Test r2 score: ', r2_score(y_test, y_pred4a))\n",
    "\n",
    "print('train_mae: ', mean_absolute_error(y_train,y_train_pred4a))\n",
    "print('test_mae: ', mean_absolute_error(y_test, y_pred4a))\n",
    "\n",
    "print('train_mse1: ', mean_squared_error(y_train,y_train_pred4a))\n",
    "print('test_mse1: ', mean_squared_error(y_test,y_pred4a))"
   ]
  },
  {
   "cell_type": "markdown",
   "id": "37a486c9",
   "metadata": {},
   "source": [
    "## Validation"
   ]
  },
  {
   "cell_type": "markdown",
   "id": "f2e50034",
   "metadata": {},
   "source": [
    "When you suspect a case of over-fiiting a useful process to help determine for show will help is validation. A useful validation technique is the *K-fold cross validation*. \n",
    "\n",
    "Cross-validation is a resampling procedure used to evaluate machine learning models on a limited data sample.\n",
    "\n",
    "The procedure has a single parameter called k that refers to the number of groups that a given data sample is to be split into. As such, the procedure is often called k-fold cross-validation. When a specific value for k is chosen, it may be used in place of k in the reference to the model, such as k=10 becoming 10-fold cross-validation.\n",
    "\n",
    "Cross-validation is primarily used in applied machine learning to estimate the skill of a machine learning model on unseen data. That is, to use a limited sample in order to estimate how the model is expected to perform in general when used to make predictions on data not used during the training of the model.\n",
    "\n",
    "It is a popular method because it is simple to understand and because it generally results in a less biased or less optimistic estimate of the model skill than other methods, such as a simple train/test split.\n",
    "\n",
    "The general procedure is as follows:\n",
    "\n",
    "1. Shuffle the dataset randomly.\n",
    "\n",
    "2. Split the dataset into k groups\n",
    "\n",
    "3. For each unique group:\n",
    "\n",
    "    a. Take the group as a hold out or test data set\n",
    "    \n",
    "    b. Take the remaining groups as a training data set\n",
    "    \n",
    "    c. Fit a model on the training set and evaluate it on the test set\n",
    "    \n",
    "    d. Retain the evaluation score and discard the model\n",
    "    \n",
    "    \n",
    "4. Summarize the skill of the model using the sample of model evaluation scores\n",
    "\n",
    "Importantly, each observation in the data sample is assigned to an individual group and stays in that group for the duration of the procedure. This means that each sample is given the opportunity to be used in the hold out set 1 time and used to train the model k-1 times."
   ]
  },
  {
   "attachments": {
    "kfold.png": {
     "image/png": "[encoded data removed]"
    }
   },
   "cell_type": "markdown",
   "id": "0509afc3",
   "metadata": {},
   "source": [
    "![kfold.png](attachment:kfold.png)"
   ]
  },
  {
   "cell_type": "markdown",
   "id": "c17c9d0f",
   "metadata": {},
   "source": [
    "Here are the guidelines on when to select what value of K:\n",
    "\n",
    "The standard value of K is 10 and used with the data of decent size.\n",
    "\n",
    "For a very large data set, one can use the value of K as 5 (K-5). One can obtain an accurate estimate of the average performance of the model while reducing the computational cost of refitting and evaluating the model on the different folds.\n",
    "\n",
    "The number of folds increases if the data is relatively small. However, larger values of k results in the increase of the runtime of the cross-validation algorithm. This yield model performance estimates with higher variance, since the training folds become smaller.\n",
    "\n",
    "For very small data sets, leave-one-out cross-validation (LOOCV) technique is used. In this technique, the validation data consists of just one record."
   ]
  },
  {
   "cell_type": "code",
   "execution_count": 195,
   "id": "abd29445",
   "metadata": {},
   "outputs": [],
   "source": [
    "from sklearn.model_selection import cross_val_score\n",
    "import sklearn.metrics"
   ]
  },
  {
   "cell_type": "code",
   "execution_count": 196,
   "id": "390b49f0",
   "metadata": {},
   "outputs": [
    {
     "data": {
      "text/plain": [
       "['accuracy',\n",
       " 'adjusted_mutual_info_score',\n",
       " 'adjusted_rand_score',\n",
       " 'average_precision',\n",
       " 'balanced_accuracy',\n",
       " 'completeness_score',\n",
       " 'explained_variance',\n",
       " 'f1',\n",
       " 'f1_macro',\n",
       " 'f1_micro',\n",
       " 'f1_samples',\n",
       " 'f1_weighted',\n",
       " 'fowlkes_mallows_score',\n",
       " 'homogeneity_score',\n",
       " 'jaccard',\n",
       " 'jaccard_macro',\n",
       " 'jaccard_micro',\n",
       " 'jaccard_samples',\n",
       " 'jaccard_weighted',\n",
       " 'max_error',\n",
       " 'mutual_info_score',\n",
       " 'neg_brier_score',\n",
       " 'neg_log_loss',\n",
       " 'neg_mean_absolute_error',\n",
       " 'neg_mean_gamma_deviance',\n",
       " 'neg_mean_poisson_deviance',\n",
       " 'neg_mean_squared_error',\n",
       " 'neg_mean_squared_log_error',\n",
       " 'neg_median_absolute_error',\n",
       " 'neg_root_mean_squared_error',\n",
       " 'normalized_mutual_info_score',\n",
       " 'precision',\n",
       " 'precision_macro',\n",
       " 'precision_micro',\n",
       " 'precision_samples',\n",
       " 'precision_weighted',\n",
       " 'r2',\n",
       " 'recall',\n",
       " 'recall_macro',\n",
       " 'recall_micro',\n",
       " 'recall_samples',\n",
       " 'recall_weighted',\n",
       " 'roc_auc',\n",
       " 'roc_auc_ovo',\n",
       " 'roc_auc_ovo_weighted',\n",
       " 'roc_auc_ovr',\n",
       " 'roc_auc_ovr_weighted',\n",
       " 'v_measure_score']"
      ]
     },
     "execution_count": 196,
     "metadata": {},
     "output_type": "execute_result"
    }
   ],
   "source": [
    "#use this to check the evaluation scores availble for use in your validation\n",
    "sorted(sklearn.metrics.SCORERS.keys())"
   ]
  },
  {
   "cell_type": "code",
   "execution_count": 197,
   "id": "b9286bef",
   "metadata": {
    "scrolled": true
   },
   "outputs": [
    {
     "name": "stdout",
     "output_type": "stream",
     "text": [
      "scores: [0.69214949 0.70500525 0.71760298 0.70716691 0.7110698  0.65963588\n",
      " 0.68365111 0.65432256 0.68724527 0.65722713]\n",
      "mean: 0.6875076372073343\n",
      "standard deviation: 0.02232720517894847\n"
     ]
    }
   ],
   "source": [
    "#I will be using 'r' evaluation metric to carry out validation on the linear regression model\n",
    "scores=cross_val_score(rf, X_train,y_train, scoring='r2', cv=10)\n",
    "\n",
    "def display_scores(scores):\n",
    "    print ('scores:', scores)\n",
    "    print('mean:', scores.mean())\n",
    "    print('standard deviation:', scores.std())\n",
    "    \n",
    "display_scores(scores)"
   ]
  },
  {
   "cell_type": "code",
   "execution_count": null,
   "id": "86eaad97",
   "metadata": {},
   "outputs": [],
   "source": []
  },
  {
   "cell_type": "markdown",
   "id": "91361128",
   "metadata": {},
   "source": [
    "Interpreting this we can say that our model has an actual r2 score of 68% +/- 2.2%"
   ]
  },
  {
   "cell_type": "code",
   "execution_count": 199,
   "id": "823cb0cf",
   "metadata": {},
   "outputs": [],
   "source": [
    "import pickle\n",
    "from pickle import dump"
   ]
  },
  {
   "cell_type": "code",
   "execution_count": 200,
   "id": "fcb98684",
   "metadata": {},
   "outputs": [],
   "source": [
    "# save the model\n",
    "dump(rf, open('model(xg).pkl', 'wb'))\n",
    "# save the scaler\n",
    "dump(scaler, open('scaler.pkl', 'wb'))"
   ]
  },
  {
   "cell_type": "code",
   "execution_count": null,
   "id": "b7e9a860",
   "metadata": {},
   "outputs": [],
   "source": []
  },
  {
   "cell_type": "code",
   "execution_count": null,
   "id": "1dfc920e",
   "metadata": {},
   "outputs": [],
   "source": [
    "# load the model from disk\n",
    "model=pickle.load(open('model(rf).pkl', 'rb'))\n",
    "model"
   ]
  },
  {
   "cell_type": "code",
   "execution_count": null,
   "id": "91305fb0",
   "metadata": {
    "scrolled": true
   },
   "outputs": [],
   "source": [
    "#load our scaler\n",
    "scaler=pickle.load(open('scaler.pkl', 'rb'))\n",
    "scaler"
   ]
  },
  {
   "cell_type": "code",
   "execution_count": null,
   "id": "6c5e25c5",
   "metadata": {},
   "outputs": [],
   "source": []
  }
 ],
 "metadata": {
  "kernelspec": {
   "display_name": "Python 3 (ipykernel)",
   "language": "python",
   "name": "python3"
  },
  "language_info": {
   "codemirror_mode": {
    "name": "ipython",
    "version": 3
   },
   "file_extension": ".py",
   "mimetype": "text/x-python",
   "name": "python",
   "nbconvert_exporter": "python",
   "pygments_lexer": "ipython3",
   "version": "3.9.7"
  }
 },
 "nbformat": 4,
 "nbformat_minor": 5
}
